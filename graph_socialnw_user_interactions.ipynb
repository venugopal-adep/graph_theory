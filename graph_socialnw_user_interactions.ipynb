{
 "cells": [
  {
   "cell_type": "markdown",
   "metadata": {},
   "source": [
    "### Network Narratives: Exploring User Relationships in Digital Communities\n",
    "In this project, I've developed an interactive tool for visualizing user interactions in a social network using Dash and NetworkX. By constructing a graph with nodes representing users and edges for different interactions like likes, comments, and shares, the tool provides a clear visual representation of how users engage with each other. This visualization offers valuable insights into social dynamics and user behavior, making it an effective tool for understanding complex social networks. Next, I plan to incorporate real-time data and more detailed interaction types to further enhance the analysis and user experience."
   ]
  },
  {
   "cell_type": "markdown",
   "metadata": {},
   "source": [
    "### Importing libraries"
   ]
  },
  {
   "cell_type": "code",
   "execution_count": 1,
   "metadata": {},
   "outputs": [
    {
     "name": "stderr",
     "output_type": "stream",
     "text": [
      "C:\\Users\\DELL\\AppData\\Local\\Packages\\PythonSoftwareFoundation.Python.3.7_qbz5n2kfra8p0\\LocalCache\\local-packages\\Python37\\site-packages\\ipykernel_launcher.py:3: UserWarning: \n",
      "The dash_html_components package is deprecated. Please replace\n",
      "`import dash_html_components as html` with `from dash import html`\n",
      "  This is separate from the ipykernel package so we can avoid doing imports until\n"
     ]
    }
   ],
   "source": [
    "import dash\n",
    "import dash_cytoscape as cyto\n",
    "import dash_html_components as html\n",
    "import networkx as nx"
   ]
  },
  {
   "cell_type": "markdown",
   "metadata": {},
   "source": [
    "### Constructing a Social Interaction Network with Dash and NetworkX\n",
    "The code initializes a Dash web application and constructs a social network graph using NetworkX. It defines users as nodes and their interactions (likes, comments, shares) as edges, effectively mapping the relationships and activities within a social community."
   ]
  },
  {
   "cell_type": "code",
   "execution_count": 2,
   "metadata": {},
   "outputs": [],
   "source": [
    "app = dash.Dash(__name__)\n",
    "G = nx.Graph()\n",
    "users = ['Alice', 'Bob', 'Charlie', 'David', 'Eve', 'Frank']\n",
    "G.add_nodes_from(users)\n",
    "\n",
    "interactions = [\n",
    "    ('Alice', 'Bob', {'interaction': 'like'}),\n",
    "    ('Alice', 'Charlie', {'interaction': 'comment'}),\n",
    "    ('Bob', 'Charlie', {'interaction': 'like'}),\n",
    "    ('Bob', 'David', {'interaction': 'share'}),\n",
    "    ('Charlie', 'David', {'interaction': 'like'}),\n",
    "    ('David', 'Eve', {'interaction': 'comment'}),\n",
    "    ('Eve', 'Frank', {'interaction': 'share'}),\n",
    "    ('Alice', 'Frank', {'interaction': 'like'}),\n",
    "]\n",
    "G.add_edges_from(interactions)"
   ]
  },
  {
   "cell_type": "markdown",
   "metadata": {},
   "source": [
    "### Enhanced Visualization of Social Network Interactions with Dash and Cytoscape\n",
    "This code constructs an interactive social network visualization in Dash, using Cytoscape to display nodes (users) and edges (interactions). It converts the NetworkX graph data to a format compatible with Dash Cytoscape, appending node and edge information, including labels for user interactions. A custom stylesheet updates the visual presentation, enabling the display of labels on nodes and edges to enhance user understanding of the network's structure and interactions."
   ]
  },
  {
   "cell_type": "code",
   "execution_count": 3,
   "metadata": {},
   "outputs": [
    {
     "data": {
      "text/html": [
       "\n",
       "        <iframe\n",
       "            width=\"100%\"\n",
       "            height=\"650\"\n",
       "            src=\"http://127.0.0.1:8050/\"\n",
       "            frameborder=\"0\"\n",
       "            allowfullscreen\n",
       "            \n",
       "        ></iframe>\n",
       "        "
      ],
      "text/plain": [
       "<IPython.lib.display.IFrame at 0x18b607aff08>"
      ]
     },
     "metadata": {},
     "output_type": "display_data"
    }
   ],
   "source": [
    "cyto_data = []\n",
    "for node in G.nodes:\n",
    "    cyto_data.append({'data': {'id': node, 'label': node}})\n",
    "\n",
    "for edge in G.edges:\n",
    "    interaction = G.edges[edge]['interaction']\n",
    "    cyto_data.append({\n",
    "        'data': {'source': edge[0], 'target': edge[1], 'label': interaction}\n",
    "    })\n",
    "\n",
    "# Update the stylesheet to include edge labels\n",
    "stylesheet = [\n",
    "    {\n",
    "        'selector': 'node',\n",
    "        'style': {'label': 'data(label)'}\n",
    "    },\n",
    "    {\n",
    "        'selector': 'edge',\n",
    "        'style': {\n",
    "            'label': 'data(label)',\n",
    "            'curve-style': 'bezier',\n",
    "            'target-arrow-shape': 'triangle'\n",
    "        }\n",
    "    }\n",
    "]\n",
    "\n",
    "cyto_comp = cyto.Cytoscape(\n",
    "    id='cytoscape',\n",
    "    elements=cyto_data,\n",
    "    layout={'name': 'circle'},\n",
    "    style={'width': '100%', 'height': '800px'},\n",
    "    stylesheet=stylesheet\n",
    ")\n",
    "\n",
    "app.layout = html.Div([\n",
    "    html.H1('User Interactions Network'),\n",
    "    cyto_comp\n",
    "])\n",
    "\n",
    "if __name__ == '__main__':\n",
    "    app.run_server(debug=True)\n"
   ]
  },
  {
   "cell_type": "code",
   "execution_count": null,
   "metadata": {},
   "outputs": [],
   "source": []
  }
 ],
 "metadata": {
  "kernelspec": {
   "display_name": "Python 3",
   "language": "python",
   "name": "python3"
  },
  "language_info": {
   "codemirror_mode": {
    "name": "ipython",
    "version": 3
   },
   "file_extension": ".py",
   "mimetype": "text/x-python",
   "name": "python",
   "nbconvert_exporter": "python",
   "pygments_lexer": "ipython3",
   "version": "3.7.9"
  },
  "orig_nbformat": 4
 },
 "nbformat": 4,
 "nbformat_minor": 2
}
