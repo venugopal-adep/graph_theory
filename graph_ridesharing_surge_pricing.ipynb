{
 "cells": [
  {
   "cell_type": "markdown",
   "metadata": {},
   "source": [
    "## Dynamic Surge Pricing Strategy: A Dash of Data-Driven Decisions\n",
    "I've just developed a Dash app that's supercharged with data-driven insights for surge pricing! By analyzing supply and demand across various locations, this app uses a network graph to dynamically adjust pricing. It's all about balancing supplies (like available rides) and demands (passenger requests) in real-time. The graph visualizes these connections, and locations with high demand are highlighted in red. This real-time adaptation ensures efficient resource allocation and optimized pricing.\n",
    "\n",
    "The next steps? Integrating live data feeds and implementing machine learning for predictive analysis. This will take our surge pricing strategy to the next level, ensuring maximum efficiency and customer satisfaction."
   ]
  },
  {
   "cell_type": "markdown",
   "metadata": {},
   "source": [
    "### Importing the libraries"
   ]
  },
  {
   "cell_type": "code",
   "execution_count": 1,
   "metadata": {},
   "outputs": [],
   "source": [
    "import dash\n",
    "from dash import html\n",
    "from dash import dcc\n",
    "import dash_cytoscape as cyto\n",
    "from dash.dependencies import Input, Output\n",
    "import dash_bootstrap_components as dbc\n",
    "import networkx as nx\n",
    "import random"
   ]
  },
  {
   "cell_type": "markdown",
   "metadata": {},
   "source": [
    "### Strategizing Resource Distribution Using Network Graphs\n",
    "This code constructs a directed graph to model supply and demand dynamics across different locations. It creates nodes for each location and edges representing the flow of resources (like rides) between them, simulating a network for analyzing and optimizing resource distribution."
   ]
  },
  {
   "cell_type": "code",
   "execution_count": 2,
   "metadata": {},
   "outputs": [],
   "source": [
    "# Locations and their supply/demand\n",
    "locations = [\"L\" + str(i) for i in range(5)]\n",
    "supplies = [random.randint(20, 50) for _ in range(len(locations))]\n",
    "demands = [random.randint(10, 60) for _ in range(len(locations))]\n",
    "\n",
    "# Create a directed graph\n",
    "G = nx.DiGraph()\n",
    "\n",
    "# Nodes and edges are added to the Graph\n",
    "G.add_nodes_from(locations)\n",
    "\n",
    "for location in locations:\n",
    "    receiving_locations = random.sample(locations, random.randint(1, 3))\n",
    "    for rec_location in receiving_locations:\n",
    "        if rec_location != location:\n",
    "            G.add_edge(location, rec_location, rides=random.randint(1, 10))"
   ]
  },
  {
   "cell_type": "markdown",
   "metadata": {},
   "source": [
    "### Visualizing Supply-Demand Dynamics in Real-Time with Dash\n",
    "This Dash app dynamically visualizes supply and demand across various locations on a network graph. It generates elements representing locations with their respective supply and demand, highlighting areas with high demand. The app layout includes an interactive network graph and a button to update data. On clicking the update button, supplies and demands are refreshed, and the network graph is updated accordingly, allowing for real-time visualization and analysis of changing market dynamics."
   ]
  },
  {
   "cell_type": "code",
   "execution_count": 3,
   "metadata": {},
   "outputs": [
    {
     "data": {
      "text/html": [
       "\n",
       "        <iframe\n",
       "            width=\"100%\"\n",
       "            height=\"650\"\n",
       "            src=\"http://127.0.0.1:8050/\"\n",
       "            frameborder=\"0\"\n",
       "            allowfullscreen\n",
       "            \n",
       "        ></iframe>\n",
       "        "
      ],
      "text/plain": [
       "<IPython.lib.display.IFrame at 0x2dbd674a348>"
      ]
     },
     "metadata": {},
     "output_type": "display_data"
    }
   ],
   "source": [
    "# Create a Dash app\n",
    "app = dash.Dash(__name__, external_stylesheets=[dbc.themes.BOOTSTRAP])\n",
    "\n",
    "# Create network graph elements\n",
    "def generate_elements():\n",
    "    elements = [{\"data\": {\"id\": node, \"label\": f\"{node}\\nS: {supply}\\nD: {demand}\"}, \n",
    "                 \"classes\": 'demandHigh' if demand > supply else ''} \n",
    "                for node, supply, demand in zip(locations, supplies, demands)]\n",
    "    elements += [{\"data\": {\"source\": edge[0], \"target\": edge[1], \"label\": G[edge[0]][edge[1]]['rides']}} \n",
    "                 for edge in G.edges()]\n",
    "    return elements\n",
    "\n",
    "# Define layout of the app\n",
    "app.layout = dbc.Container(\n",
    "    [\n",
    "        dbc.Row(\n",
    "            [\n",
    "                dbc.Col(\n",
    "                    cyto.Cytoscape(\n",
    "                        id='network',\n",
    "                        layout={'name': 'circle'},\n",
    "                        style={'width': '100%', 'height': '600px'},\n",
    "                        elements=generate_elements(),\n",
    "                        stylesheet=[\n",
    "                            {'selector': '.demandHigh', 'style': {'background-color': 'red', 'width': '50px', 'height': '50px'}},\n",
    "                            {'selector': 'node', 'style': {'font-size': '20px', 'text-wrap': 'wrap', 'text-max-width': '85px'}},\n",
    "                            {'selector': 'edge', 'style': {'label': 'data(label)', 'font-size': '20px', 'curve-style': 'bezier', 'target-arrow-shape': 'triangle', 'control-point-step-size': '100px'}},\n",
    "                            {'selector': '.demandHigh', 'style': {'label': 'data(label)'}}\n",
    "                        ]\n",
    "                    ),\n",
    "                )\n",
    "            ]\n",
    "        ),\n",
    "        dbc.Row(\n",
    "            [\n",
    "                dbc.Col(\n",
    "                    html.Button(\"Update Data\", id='update_button', n_clicks=0),\n",
    "                )\n",
    "            ]\n",
    "        ),\n",
    "    ],\n",
    "    fluid=True\n",
    ")\n",
    "\n",
    "# Update function\n",
    "@app.callback(\n",
    "    Output('network', 'elements'),\n",
    "    Input('update_button', 'n_clicks'),\n",
    ")\n",
    "def update_data(n_clicks):\n",
    "    if n_clicks > 0:\n",
    "        # Update supplies and demands\n",
    "        random.seed(n_clicks)\n",
    "        supplies[:] = [random.randint(20, 50) for _ in range(len(locations))]\n",
    "        demands[:] = [random.randint(10, 60) for _ in range(len(locations))]\n",
    "        for edge in G.edges():\n",
    "            G[edge[0]][edge[1]]['rides'] = random.randint(1, 10)\n",
    "    return generate_elements()\n",
    "\n",
    "if __name__ == '__main__':\n",
    "    app.run_server(debug=False)"
   ]
  }
 ],
 "metadata": {
  "kernelspec": {
   "display_name": "Python 3",
   "language": "python",
   "name": "python3"
  },
  "language_info": {
   "codemirror_mode": {
    "name": "ipython",
    "version": 3
   },
   "file_extension": ".py",
   "mimetype": "text/x-python",
   "name": "python",
   "nbconvert_exporter": "python",
   "pygments_lexer": "ipython3",
   "version": "3.7.9"
  },
  "orig_nbformat": 4
 },
 "nbformat": 4,
 "nbformat_minor": 2
}
