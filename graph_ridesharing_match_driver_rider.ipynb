{
 "cells": [
  {
   "cell_type": "markdown",
   "metadata": {},
   "source": [
    "## Revolutionizing Ride-Sharing: Graph-Based Driver-Rider Pairing System\n",
    "I've developed an exciting tool using Dash that brilliantly matches drivers with riders. It's all about visualizing connections: drivers and riders are nodes, and the edges are the distances between them. The key here is the smart algorithm that picks the three shortest paths for each driver, ensuring they're paired with the nearest riders. This isn't just about mapping; it's about making ride-sharing more efficient and user-friendly. My next step? Injecting live location data to bring this model to life in real time, ensuring it's always up-to-date and relevant."
   ]
  },
  {
   "cell_type": "markdown",
   "metadata": {},
   "source": [
    "### Importing libraries"
   ]
  },
  {
   "cell_type": "code",
   "execution_count": null,
   "metadata": {},
   "outputs": [],
   "source": [
    "import dash\n",
    "from dash.dependencies import Input, Output\n",
    "import dash_cytoscape as cyto\n",
    "import dash_html_components as html\n",
    "import dash_bootstrap_components as dbc\n",
    "import networkx as nx\n",
    "import random"
   ]
  },
  {
   "cell_type": "markdown",
   "metadata": {},
   "source": [
    "### Efficient Graph Generation for Optimized Driver-Rider Pairing\n",
    "The code defines a function generate_graph to create a bipartite graph representing a ride-sharing network, mapping drivers to riders. It assigns random distances to each driver-rider pair, identifies the three shortest paths for each driver, and returns a visual representation of these connections. This method effectively prepares data for visual analysis and decision-making in ride-sharing services."
   ]
  },
  {
   "cell_type": "code",
   "execution_count": null,
   "metadata": {},
   "outputs": [],
   "source": [
    "# Moved graph generation into a function so it can be reused\n",
    "def generate_graph():\n",
    "    B = nx.complete_bipartite_graph(drivers, riders)\n",
    "\n",
    "    for edge in B.edges:\n",
    "        B.edges[edge]['distance'] = random.randint(10, 50)\n",
    "\n",
    "    nodes = [{'data': {'id': node, 'label': node}} for node in B.nodes]\n",
    "    edges = [{'data': {'source': edge[0], 'target': edge[1], 'label': str(B.edges[edge]['distance'])}, 'classes': 'dotted'} for edge in B.edges]\n",
    "    \n",
    "    for driver in drivers:\n",
    "        shortest_paths = sorted(B.edges(driver, data=True), key=lambda x: x[2]['distance'])[:3]\n",
    "        for path in shortest_paths:\n",
    "            edges.append({'data': {'source': path[0], 'target': path[1], 'label': str(path[2]['distance'])}, 'classes': 'solid'})\n",
    "\n",
    "    return nodes + edges\n",
    "\n",
    "drivers = [f\"Driver {i}\" for i in range(1, 6)]\n",
    "riders = [f\"Rider {i}\" for i in range(1, 11)]"
   ]
  },
  {
   "cell_type": "markdown",
   "metadata": {},
   "source": [
    "### Visualizing Dynamic Ride-Sharing Networks with Dash and Cytoscape\n",
    "This code sets up a Dash web application to dynamically visualize a ride-sharing network. It styles nodes and edges to differentiate between drivers and riders and to indicate different types of connections. The app allows refreshing the network graph to update rider-driver distances and connections, enhancing the interactivity and usability of the visualization"
   ]
  },
  {
   "cell_type": "code",
   "execution_count": null,
   "metadata": {},
   "outputs": [],
   "source": [
    "# Updated the stylesheet variable\n",
    "stylesheet = [\n",
    "    {\n",
    "        'selector': 'node',\n",
    "        'style': {'content': 'data(label)'}\n",
    "    },\n",
    "    {\n",
    "        'selector': 'edge.dotted',\n",
    "        'style': {'label': 'data(label)', 'line-style': 'dotted', 'curve-style': 'bezier', 'target-arrow-shape': 'triangle'}\n",
    "    },\n",
    "    {\n",
    "        'selector': 'edge.solid',\n",
    "        'style': {'label': 'data(label)', 'line-style': 'solid', 'curve-style': 'bezier', 'target-arrow-shape': 'triangle'}\n",
    "    },\n",
    "    {\n",
    "        'selector': '[id *= \"Driver\"]',\n",
    "        'style': {'background-color': 'blue'}\n",
    "    },\n",
    "    {\n",
    "        'selector': '[id *= \"Rider\"]',\n",
    "        'style': {'background-color': 'green'}\n",
    "    }\n",
    "]\n",
    "\n",
    "app = dash.Dash(__name__)\n",
    "\n",
    "app.layout = dbc.Container([\n",
    "    dbc.Row(\n",
    "        dbc.Col(html.H2(\"Riders and Drivers and the distance between them\"), width=12)\n",
    "    ),\n",
    "    dbc.Row(\n",
    "        dbc.Col([\n",
    "            html.Button(\"Refresh\", id='refresh-button'),\n",
    "            cyto.Cytoscape(\n",
    "                id='cytoscape-elements',\n",
    "                layout={'name': 'random'},\n",
    "                style={'width': '100%', 'height': '800px'},\n",
    "                elements=generate_graph(),\n",
    "                stylesheet=stylesheet\n",
    "            )\n",
    "        ], width=12)\n",
    "    ),\n",
    "], fluid=True)\n",
    "\n",
    "@app.callback(\n",
    "    Output('cytoscape-elements', 'elements'),\n",
    "    Input('refresh-button', 'n_clicks')\n",
    ")\n",
    "def refresh_graph(n):\n",
    "    return generate_graph()\n",
    "\n",
    "if __name__ == '__main__':\n",
    "    app.run_server(debug=True)"
   ]
  },
  {
   "cell_type": "code",
   "execution_count": null,
   "metadata": {},
   "outputs": [],
   "source": []
  },
  {
   "cell_type": "code",
   "execution_count": 1,
   "metadata": {},
   "outputs": [
    {
     "name": "stderr",
     "output_type": "stream",
     "text": [
      "/var/folders/nw/s0ydnp_17xx5xmcx2zb8lqqrql43sp/T/ipykernel_94515/3722289767.py:4: UserWarning: \n",
      "The dash_html_components package is deprecated. Please replace\n",
      "`import dash_html_components as html` with `from dash import html`\n",
      "  import dash_html_components as html\n"
     ]
    },
    {
     "data": {
      "text/html": [
       "\n",
       "        <iframe\n",
       "            width=\"100%\"\n",
       "            height=\"650\"\n",
       "            src=\"http://127.0.0.1:8050/\"\n",
       "            frameborder=\"0\"\n",
       "            allowfullscreen\n",
       "            \n",
       "        ></iframe>\n",
       "        "
      ],
      "text/plain": [
       "<IPython.lib.display.IFrame at 0x120123550>"
      ]
     },
     "metadata": {},
     "output_type": "display_data"
    }
   ],
   "source": [
    "\n",
    "\n",
    "\n",
    "\n",
    "\n"
   ]
  },
  {
   "cell_type": "markdown",
   "metadata": {},
   "source": [
    "### Assign the rider to the driver based on the distance"
   ]
  },
  {
   "cell_type": "code",
   "execution_count": 2,
   "metadata": {},
   "outputs": [
    {
     "data": {
      "text/html": [
       "\n",
       "        <iframe\n",
       "            width=\"100%\"\n",
       "            height=\"650\"\n",
       "            src=\"http://127.0.0.1:8050/\"\n",
       "            frameborder=\"0\"\n",
       "            allowfullscreen\n",
       "            \n",
       "        ></iframe>\n",
       "        "
      ],
      "text/plain": [
       "<IPython.lib.display.IFrame at 0x126503f90>"
      ]
     },
     "metadata": {},
     "output_type": "display_data"
    }
   ],
   "source": [
    "import dash\n",
    "from dash.dependencies import Input, Output\n",
    "import dash_cytoscape as cyto\n",
    "import dash_html_components as html\n",
    "import dash_bootstrap_components as dbc\n",
    "import networkx as nx\n",
    "import random\n",
    "\n",
    "# Create a dash application\n",
    "app = dash.Dash(__name__)\n",
    "\n",
    "# Function to generate elements for the graph\n",
    "def generate_elements():\n",
    "    drivers = [f\"Driver {i}\" for i in range(1, 6)]\n",
    "    riders = [f\"Rider {i}\" for i in range(1, 11)]\n",
    "    \n",
    "    B = nx.complete_bipartite_graph(drivers, riders)\n",
    "    \n",
    "    for edge in B.edges:\n",
    "        B.edges[edge]['distance'] = random.randint(10, 50)\n",
    "\n",
    "    nodes = [{'data': {'id': node, 'label': node}} for node in B.nodes]\n",
    "    edges = [{'data': {'source': edge[0], 'target': edge[1], 'label': str(B.edges[edge]['distance'])}, 'classes': 'dotted'} for edge in B.edges]\n",
    "    \n",
    "    for driver in drivers:\n",
    "        shortest_paths = sorted(B.edges(driver, data=True), key=lambda x: x[2]['distance'])[:3]\n",
    "        for path in shortest_paths:\n",
    "            edges.append({'data': {'source': path[0], 'target': path[1], 'label': str(path[2]['distance'])}, 'classes': 'solid'})\n",
    "\n",
    "    return nodes + edges\n",
    "\n",
    "# Initial graph elements\n",
    "initial_elements = generate_elements()\n",
    "\n",
    "# Create stylesheet\n",
    "stylesheet = [\n",
    "    {\n",
    "        'selector': 'node',\n",
    "        'style': {'content': 'data(label)'}\n",
    "    },\n",
    "    {\n",
    "        'selector': 'edge.dotted',\n",
    "        'style': {'label': 'data(label)', 'line-style': 'dotted', 'curve-style': 'bezier', 'target-arrow-shape': 'triangle'}\n",
    "    },\n",
    "    {\n",
    "        'selector': 'edge.solid',\n",
    "        'style': {'label': 'data(label)', 'line-style': 'solid', 'curve-style': 'bezier', 'target-arrow-shape': 'triangle', 'line-color': 'red'}\n",
    "    },\n",
    "    {\n",
    "        'selector': '[id *= \"Driver\"]',\n",
    "        'style': {'background-color': 'blue'}\n",
    "    },\n",
    "    {\n",
    "        'selector': '[id *= \"Rider\"]',\n",
    "        'style': {'background-color': 'green'}\n",
    "    }\n",
    "]\n",
    "\n",
    "# Application layout\n",
    "app.layout = dbc.Container([\n",
    "    dbc.Row(\n",
    "        dbc.Col(html.H2(\"Assign the rider to the driver based on the distance\"), width=12)\n",
    "    ),\n",
    "    dbc.Row([\n",
    "        dbc.Col(html.Button('Refresh', id='refresh-button'), width=2),\n",
    "    ]),\n",
    "    dbc.Row(\n",
    "        dbc.Col(cyto.Cytoscape(\n",
    "            id='cytoscape-elements',\n",
    "            layout={'name': 'random'},\n",
    "            style={'width': '100%', 'height': '800px'},\n",
    "            elements=initial_elements,\n",
    "            stylesheet=stylesheet\n",
    "        ), width=12)\n",
    "    ),\n",
    "], fluid=True)\n",
    "\n",
    "@app.callback(\n",
    "    Output('cytoscape-elements', 'elements'),\n",
    "    Input('refresh-button', 'n_clicks')\n",
    ")\n",
    "def refresh_graph(n_clicks):\n",
    "    if n_clicks:\n",
    "        return generate_elements()\n",
    "    return initial_elements  # Return initial elements if button hasn't been clicked\n",
    "\n",
    "if __name__ == '__main__':\n",
    "    app.run_server(debug=True)\n"
   ]
  },
  {
   "cell_type": "code",
   "execution_count": null,
   "metadata": {},
   "outputs": [],
   "source": []
  }
 ],
 "metadata": {
  "kernelspec": {
   "display_name": "Python 3",
   "language": "python",
   "name": "python3"
  },
  "language_info": {
   "codemirror_mode": {
    "name": "ipython",
    "version": 3
   },
   "file_extension": ".py",
   "mimetype": "text/x-python",
   "name": "python",
   "nbconvert_exporter": "python",
   "pygments_lexer": "ipython3",
   "version": "3.11.4"
  },
  "orig_nbformat": 4
 },
 "nbformat": 4,
 "nbformat_minor": 2
}
