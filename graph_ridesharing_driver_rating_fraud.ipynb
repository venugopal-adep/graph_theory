{
 "cells": [
  {
   "cell_type": "markdown",
   "metadata": {},
   "source": [
    "## Exposing Driver Rating Fraud in Ride-Sharing Networks Using Graph Analysis\n",
    "In my recent project, I created a graph-based Dash application that could be instrumental in uncovering rating fraud in ride-sharing platforms. By visualizing the connections between drivers and riders along with their ratings, it's easier to spot anomalies or patterns that indicate fraudulent activities. For instance, consistently high ratings in a tightly-knit, small group of riders and drivers could suggest manipulation. This visual tool aids in maintaining transparency and integrity in the system. Moving forward, I aim to enhance this application by incorporating machine learning algorithms for automatic fraud detection and real-time data analysis for immediate response."
   ]
  },
  {
   "cell_type": "markdown",
   "metadata": {},
   "source": [
    "### Import libraries"
   ]
  },
  {
   "cell_type": "code",
   "execution_count": null,
   "metadata": {},
   "outputs": [],
   "source": [
    "import dash\n",
    "import dash_cytoscape as cyto\n",
    "import dash_html_components as html\n",
    "import networkx as nx\n",
    "import random"
   ]
  },
  {
   "cell_type": "markdown",
   "metadata": {},
   "source": [
    "### Initial Setup for a Rideshare Matching Simulation\n",
    "The code initializes a reproducible environment using a random seed and creates two sets of nodes: one representing drivers (10 in total) and the other representing riders (20 in total), with plans to increase these to 20 drivers and 50 riders respectively for a rideshare matching simulation."
   ]
  },
  {
   "cell_type": "code",
   "execution_count": null,
   "metadata": {},
   "outputs": [],
   "source": [
    "# Set seed for reproducibility\n",
    "random.seed(42)\n",
    "\n",
    "# Create two sets of nodes\n",
    "drivers = [f\"Driver {i}\" for i in range(10)]  # Increase to 20 drivers\n",
    "riders = [f\"Rider {i}\" for i in range(20)]  # Increase to 50 riders"
   ]
  },
  {
   "cell_type": "markdown",
   "metadata": {},
   "source": [
    "### Network Analysis of Driver-Rider Ratings in Ride-Sharing Services\n",
    "The code creates a bipartite graph representing drivers and riders in a ride-sharing network, where nodes are drivers or riders and edges are the ratings given by riders to drivers. It then prepares data for visualization in Cytoscape, categorizing edges based on the rating value, thus enabling an intuitive graphical analysis of the service quality within the network."
   ]
  },
  {
   "cell_type": "code",
   "execution_count": null,
   "metadata": {},
   "outputs": [],
   "source": [
    "# Create a graph\n",
    "G = nx.Graph()\n",
    "\n",
    "# Nodes are added to the Graph\n",
    "G.add_nodes_from(drivers, bipartite=0)\n",
    "G.add_nodes_from(riders, bipartite=1)\n",
    "\n",
    "# Add edges with ratings\n",
    "for driver in drivers:\n",
    "    serving_riders = random.sample(riders, random.randint(1, 3))\n",
    "    for rider in serving_riders:\n",
    "        G.add_edge(driver, rider, rating=random.randint(1, 5))\n",
    "\n",
    "# Create elements for cytoscape graph\n",
    "elements = [\n",
    "    # Nodes elements\n",
    "    {'data': {'id': node, 'label': node}, 'classes': 'driver' if node in drivers else 'rider'}\n",
    "    for node in G.nodes\n",
    "]\n",
    "\n",
    "elements.extend([\n",
    "    # Edges elements\n",
    "    {\n",
    "        'data': {\n",
    "            'source': edge[0],\n",
    "            'target': edge[1],\n",
    "            'label': f\"Rating: {G[edge[0]][edge[1]]['rating']}\"\n",
    "        },\n",
    "        'classes': 'high-rating' if G[edge[0]][edge[1]]['rating'] == 5 else 'low-rating'\n",
    "    }\n",
    "    for edge in G.edges\n",
    "])"
   ]
  },
  {
   "cell_type": "markdown",
   "metadata": {},
   "source": [
    "### Interactive Visualization of Network Elements Using Dash and Cytoscape\n",
    "This code sets up a Dash web application to visually represent network elements with distinct styles. It uses Cytoscape to create a graphical representation, where elements are styled differently based on their classes like 'driver', 'rider', and ratings. This approach enhances the visual analysis of complex networks."
   ]
  },
  {
   "cell_type": "code",
   "execution_count": null,
   "metadata": {},
   "outputs": [],
   "source": [
    "# Create Dash application\n",
    "app = dash.Dash(__name__)\n",
    "\n",
    "default_stylesheet = [\n",
    "    {\n",
    "        'selector': '.driver',\n",
    "        'style': {\n",
    "            'background-color': 'blue',\n",
    "        }\n",
    "    },\n",
    "    {\n",
    "        'selector': '.rider',\n",
    "        'style': {\n",
    "            'background-color': 'green',\n",
    "        }\n",
    "    },\n",
    "    {\n",
    "        'selector': '.high-rating',\n",
    "        'style': {\n",
    "            'line-color': 'red',\n",
    "            'label': 'data(label)',\n",
    "        }\n",
    "    },\n",
    "    {\n",
    "        'selector': '.low-rating',\n",
    "        'style': {\n",
    "            'line-color': 'black',\n",
    "            'label': 'data(label)',\n",
    "        }\n",
    "    },\n",
    "]\n",
    "\n",
    "app.layout = html.Div([\n",
    "    cyto.Cytoscape(\n",
    "        id='cytoscape',\n",
    "        elements=elements,\n",
    "        stylesheet=default_stylesheet,\n",
    "        layout={'name': 'random'},\n",
    "        style={'width': '100%', 'height': '800px'}\n",
    "    )\n",
    "])\n",
    "\n",
    "if __name__ == '__main__':\n",
    "    app.run_server(debug=True)\n"
   ]
  }
 ],
 "metadata": {
  "kernelspec": {
   "display_name": "Python 3",
   "language": "python",
   "name": "python3"
  },
  "language_info": {
   "codemirror_mode": {
    "name": "ipython",
    "version": 3
   },
   "file_extension": ".py",
   "mimetype": "text/x-python",
   "name": "python",
   "nbconvert_exporter": "python",
   "pygments_lexer": "ipython3",
   "version": "3.11.4"
  },
  "orig_nbformat": 4
 },
 "nbformat": 4,
 "nbformat_minor": 2
}
