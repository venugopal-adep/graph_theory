{
 "cells": [
  {
   "cell_type": "markdown",
   "metadata": {},
   "source": [
    "## Navigating Urban Transit: A Real-Time Rider Demand Visualization Tool using Graph Theory\n",
    "I've just wrapped up a project that's a game-changer for urban mobility. Using a Dash app, I created a real-time visualization of rider movement across a city. The setup? A network graph with nodes as locations and edges showing rider flows. The kicker? It highlights the busiest spots by analyzing incoming traffic. This tool isn't just about pretty graphics; it's a powerful way to pinpoint transit hotspots. Next up, I'm thinking of weaving in live data to catch the pulse of the city as it beats - imagine adapting transit resources on the fly based on this data!"
   ]
  },
  {
   "cell_type": "markdown",
   "metadata": {},
   "source": [
    "### Import libraries"
   ]
  },
  {
   "cell_type": "code",
   "execution_count": 1,
   "metadata": {},
   "outputs": [
    {
     "name": "stderr",
     "output_type": "stream",
     "text": [
      "C:\\Users\\DELL\\AppData\\Local\\Packages\\PythonSoftwareFoundation.Python.3.7_qbz5n2kfra8p0\\LocalCache\\local-packages\\Python37\\site-packages\\ipykernel_launcher.py:5: UserWarning: \n",
      "The dash_table package is deprecated. Please replace\n",
      "`import dash_table` with `from dash import dash_table`\n",
      "\n",
      "Also, if you're using any of the table format helpers (e.g. Group), replace \n",
      "`from dash_table.Format import Group` with \n",
      "`from dash.dash_table.Format import Group`\n",
      "  \"\"\"\n"
     ]
    }
   ],
   "source": [
    "import dash\n",
    "from dash import dcc\n",
    "from dash import html\n",
    "import dash_cytoscape as cyto\n",
    "import dash_table\n",
    "import dash.dependencies as dd\n",
    "import networkx as nx\n",
    "import random\n",
    "import pandas as pd"
   ]
  },
  {
   "cell_type": "markdown",
   "metadata": {},
   "source": [
    "### Visualizing Rider Movement through Directed Graphs\n",
    "This code constructs a directed graph to analyze and visualize rider movement in urban areas. By creating nodes representing different locations and edges weighted by rider traffic between these locations, it identifies the most frequented spots. Additionally, it compiles this data into a comprehensive dataframe for detailed analysis, effectively providing a tool to understand and respond to urban transit demands."
   ]
  },
  {
   "cell_type": "code",
   "execution_count": 2,
   "metadata": {},
   "outputs": [],
   "source": [
    "# Function to generate graph and related data\n",
    "def generate_graph_data():\n",
    "    # Create nodes (representing locations)\n",
    "    locations = [f\"L{i}\" for i in range(10)]\n",
    "    \n",
    "    # Create a directed graph\n",
    "    G = nx.DiGraph()\n",
    "    \n",
    "    # Nodes are added to the Graph\n",
    "    G.add_nodes_from(locations)\n",
    "    \n",
    "    # Add edges with weights (representing movement of riders between locations)\n",
    "    for location in locations:\n",
    "        receiving_locations = random.sample(locations, random.randint(1, 3))\n",
    "        for rec_location in receiving_locations:\n",
    "            if rec_location != location:\n",
    "                G.add_edge(location, rec_location, weight=random.randint(1, 10))\n",
    "\n",
    "    # Compute the total riders (incoming) for each node\n",
    "    incoming_riders = {node: sum([data['weight'] for _, _, data in G.in_edges(node, data=True)]) for node in G.nodes()}\n",
    "\n",
    "    # Get the top 3 nodes with the highest incoming riders\n",
    "    most_visited_nodes = sorted(incoming_riders, key=incoming_riders.get, reverse=True)[:3]\n",
    "\n",
    "    # Create elements for dash_cytoscape\n",
    "    elements = [\n",
    "        {'data': {'id': node, 'label': node}, \n",
    "         'classes': 'most_visited' if node in most_visited_nodes else ''} \n",
    "        for node in G.nodes\n",
    "    ]\n",
    "\n",
    "    for edge in G.edges:\n",
    "        from_node = edge[0]\n",
    "        to_node = edge[1]\n",
    "        weight = G[from_node][to_node]['weight']\n",
    "        elements.append(\n",
    "            {'data': {'source': from_node, 'target': to_node, 'label': f\"{weight} riders\"}}\n",
    "        )\n",
    "\n",
    "    # Create a dataframe for table visualization\n",
    "    df = pd.DataFrame({\n",
    "        'Location': locations,\n",
    "        'Incoming Riders': [incoming_riders[loc] for loc in locations],\n",
    "        'Outgoing Riders': [G.out_degree(loc, weight='weight') for loc in locations],\n",
    "    })\n",
    "    df['Total Riders'] = df['Incoming Riders'] + df['Outgoing Riders']\n",
    "    \n",
    "    return elements, df"
   ]
  },
  {
   "cell_type": "markdown",
   "metadata": {},
   "source": [
    "### Interactive Urban Transit Analysis: A Dash App for Visualizing Rider Flow\n",
    "This code sets up an interactive Dash application to visualize urban transit data. It starts by generating initial graph data and displaying it in a dynamically updateable format. The app features a network graph for visualizing rider movements and a data table for detailed insights. Users can refresh data on demand, with nodes and edges in the graph representing city locations and rider traffic. This setup offers a hands-on approach to understanding and analyzing urban mobility patterns."
   ]
  },
  {
   "cell_type": "code",
   "execution_count": 4,
   "metadata": {},
   "outputs": [
    {
     "data": {
      "text/html": [
       "\n",
       "        <iframe\n",
       "            width=\"100%\"\n",
       "            height=\"650\"\n",
       "            src=\"http://127.0.0.1:8050/\"\n",
       "            frameborder=\"0\"\n",
       "            allowfullscreen\n",
       "            \n",
       "        ></iframe>\n",
       "        "
      ],
      "text/plain": [
       "<IPython.lib.display.IFrame at 0x23f481f0f48>"
      ]
     },
     "metadata": {},
     "output_type": "display_data"
    },
    {
     "name": "stdout",
     "output_type": "stream",
     "text": [
      "\u001b[1;31m---------------------------------------------------------------------------\u001b[0m\n",
      "\u001b[1;31mDependencyException\u001b[0m                       Traceback (most recent call last)\n",
      "\u001b[1;32m~\\AppData\\Local\\Packages\\PythonSoftwareFoundation.Python.3.7_qbz5n2kfra8p0\\LocalCache\\local-packages\\Python37\\site-packages\\flask\\app.py\u001b[0m in \u001b[0;36mfull_dispatch_request\u001b[1;34m(self=<Flask '__main__'>)\u001b[0m\n",
      "\u001b[0;32m   1821\u001b[0m             \u001b[0mrv\u001b[0m \u001b[1;33m=\u001b[0m \u001b[0mself\u001b[0m\u001b[1;33m.\u001b[0m\u001b[0mpreprocess_request\u001b[0m\u001b[1;33m(\u001b[0m\u001b[1;33m)\u001b[0m\u001b[1;33m\u001b[0m\u001b[1;33m\u001b[0m\u001b[0m\n",
      "\u001b[0;32m   1822\u001b[0m             \u001b[1;32mif\u001b[0m \u001b[0mrv\u001b[0m \u001b[1;32mis\u001b[0m \u001b[1;32mNone\u001b[0m\u001b[1;33m:\u001b[0m\u001b[1;33m\u001b[0m\u001b[1;33m\u001b[0m\u001b[0m\n",
      "\u001b[1;32m-> 1823\u001b[1;33m                 \u001b[0mrv\u001b[0m \u001b[1;33m=\u001b[0m \u001b[0mself\u001b[0m\u001b[1;33m.\u001b[0m\u001b[0mdispatch_request\u001b[0m\u001b[1;33m(\u001b[0m\u001b[1;33m)\u001b[0m\u001b[1;33m\u001b[0m\u001b[1;33m\u001b[0m\u001b[0m\n",
      "\u001b[0m        \u001b[0;36mrv\u001b[0m \u001b[1;34m= None\u001b[0m\u001b[1;34m\n",
      "        \u001b[0m\u001b[0;36mself.dispatch_request\u001b[0m \u001b[1;34m= <bound method Flask.dispatch_request of <Flask '__main__'>>\u001b[0m\n",
      "\u001b[0;32m   1824\u001b[0m         \u001b[1;32mexcept\u001b[0m \u001b[0mException\u001b[0m \u001b[1;32mas\u001b[0m \u001b[0me\u001b[0m\u001b[1;33m:\u001b[0m\u001b[1;33m\u001b[0m\u001b[1;33m\u001b[0m\u001b[0m\n",
      "\u001b[0;32m   1825\u001b[0m             \u001b[0mrv\u001b[0m \u001b[1;33m=\u001b[0m \u001b[0mself\u001b[0m\u001b[1;33m.\u001b[0m\u001b[0mhandle_user_exception\u001b[0m\u001b[1;33m(\u001b[0m\u001b[0me\u001b[0m\u001b[1;33m)\u001b[0m\u001b[1;33m\u001b[0m\u001b[1;33m\u001b[0m\u001b[0m\n",
      "\n",
      "\u001b[1;32m~\\AppData\\Local\\Packages\\PythonSoftwareFoundation.Python.3.7_qbz5n2kfra8p0\\LocalCache\\local-packages\\Python37\\site-packages\\flask\\app.py\u001b[0m in \u001b[0;36mdispatch_request\u001b[1;34m(self=<Flask '__main__'>)\u001b[0m\n",
      "\u001b[0;32m   1797\u001b[0m         \u001b[1;31m# otherwise dispatch to the handler for that endpoint\u001b[0m\u001b[1;33m\u001b[0m\u001b[1;33m\u001b[0m\u001b[1;33m\u001b[0m\u001b[0m\n",
      "\u001b[0;32m   1798\u001b[0m         \u001b[0mview_args\u001b[0m\u001b[1;33m:\u001b[0m \u001b[0mt\u001b[0m\u001b[1;33m.\u001b[0m\u001b[0mDict\u001b[0m\u001b[1;33m[\u001b[0m\u001b[0mstr\u001b[0m\u001b[1;33m,\u001b[0m \u001b[0mt\u001b[0m\u001b[1;33m.\u001b[0m\u001b[0mAny\u001b[0m\u001b[1;33m]\u001b[0m \u001b[1;33m=\u001b[0m \u001b[0mreq\u001b[0m\u001b[1;33m.\u001b[0m\u001b[0mview_args\u001b[0m  \u001b[1;31m# type: ignore[assignment]\u001b[0m\u001b[1;33m\u001b[0m\u001b[1;33m\u001b[0m\u001b[0m\n",
      "\u001b[1;32m-> 1799\u001b[1;33m         \u001b[1;32mreturn\u001b[0m \u001b[0mself\u001b[0m\u001b[1;33m.\u001b[0m\u001b[0mensure_sync\u001b[0m\u001b[1;33m(\u001b[0m\u001b[0mself\u001b[0m\u001b[1;33m.\u001b[0m\u001b[0mview_functions\u001b[0m\u001b[1;33m[\u001b[0m\u001b[0mrule\u001b[0m\u001b[1;33m.\u001b[0m\u001b[0mendpoint\u001b[0m\u001b[1;33m]\u001b[0m\u001b[1;33m)\u001b[0m\u001b[1;33m(\u001b[0m\u001b[1;33m**\u001b[0m\u001b[0mview_args\u001b[0m\u001b[1;33m)\u001b[0m\u001b[1;33m\u001b[0m\u001b[1;33m\u001b[0m\u001b[0m\n",
      "\u001b[0m        \u001b[0;36mself.ensure_sync\u001b[0m \u001b[1;34m= <bound method Flask.ensure_sync of <Flask '__main__'>>\u001b[0m\u001b[1;34m\n",
      "        \u001b[0m\u001b[0;36mself.view_functions\u001b[0m \u001b[1;34m= {'static': <function Flask.__init__.<locals>.<lambda> at 0x0000023F4809B288>, '_dash_assets.static': <bound method Scaffold.send_static_file of <Blueprint '_dash_assets'>>, '/_dash-component-suites/<string:package_name>/<path:fingerprinted_path>': <bound method Dash.serve_component_suites of <dash.dash.Dash object at 0x0000023F4808D6C8>>, '/_dash-layout': <bound method Dash.serve_layout of <dash.dash.Dash object at 0x0000023F4808D6C8>>, '/_dash-dependencies': <bound method Dash.dependencies of <dash.dash.Dash object at 0x0000023F4808D6C8>>, '/_dash-update-component': <bound method Dash.dispatch of <dash.dash.Dash object at 0x0000023F4808D6C8>>, '/_reload-hash': <bound method Dash.serve_reload_hash of <dash.dash.Dash object at 0x0000023F4808D6C8>>, '/_favicon.ico': <function Dash._serve_default_favicon at 0x0000023F3FDB9DC8>, '/': <bound method Dash.index of <dash.dash.Dash object at 0x0000023F4808D6C8>>, '/_alive_12d74a74-a51d-47fe-8c1d-9a02095a75d1': <function JupyterDash.serve_alive at 0x0000023F3FD9BB88>, '/<path:path>': <bound method Dash.index of <dash.dash.Dash object at 0x0000023F4808D6C8>>}\u001b[0m\u001b[1;34m\n",
      "        \u001b[0m\u001b[0;36mrule.endpoint\u001b[0m \u001b[1;34m= '/_dash-component-suites/<string:package_name>/<path:fingerprinted_path>'\u001b[0m\u001b[1;34m\n",
      "        \u001b[0m\u001b[0;36mview_args\u001b[0m \u001b[1;34m= {'package_name': 'dash_bootstrap_components', 'fingerprinted_path': '_components/dash_bootstrap_components.v1_5_0m1699787331.min.js'}\u001b[0m\n",
      "\u001b[0;32m   1800\u001b[0m \u001b[1;33m\u001b[0m\u001b[0m\n",
      "\u001b[0;32m   1801\u001b[0m     \u001b[1;32mdef\u001b[0m \u001b[0mfull_dispatch_request\u001b[0m\u001b[1;33m(\u001b[0m\u001b[0mself\u001b[0m\u001b[1;33m)\u001b[0m \u001b[1;33m->\u001b[0m \u001b[0mResponse\u001b[0m\u001b[1;33m:\u001b[0m\u001b[1;33m\u001b[0m\u001b[1;33m\u001b[0m\u001b[0m\n",
      "\n",
      "\u001b[1;32m~\\AppData\\Local\\Packages\\PythonSoftwareFoundation.Python.3.7_qbz5n2kfra8p0\\LocalCache\\local-packages\\Python37\\site-packages\\dash\\dash.py\u001b[0m in \u001b[0;36mserve_component_suites\u001b[1;34m(\n",
      "    self=<dash.dash.Dash object>,\n",
      "    package_name='dash_bootstrap_components',\n",
      "    fingerprinted_path='_components/dash_bootstrap_components.v1_5_0m1699787331.min.js'\n",
      ")\u001b[0m\n",
      "\u001b[0;32m    945\u001b[0m         \u001b[0mpath_in_pkg\u001b[0m\u001b[1;33m,\u001b[0m \u001b[0mhas_fingerprint\u001b[0m \u001b[1;33m=\u001b[0m \u001b[0mcheck_fingerprint\u001b[0m\u001b[1;33m(\u001b[0m\u001b[0mfingerprinted_path\u001b[0m\u001b[1;33m)\u001b[0m\u001b[1;33m\u001b[0m\u001b[1;33m\u001b[0m\u001b[0m\n",
      "\u001b[0;32m    946\u001b[0m \u001b[1;33m\u001b[0m\u001b[0m\n",
      "\u001b[1;32m--> 947\u001b[1;33m         \u001b[0m_validate\u001b[0m\u001b[1;33m.\u001b[0m\u001b[0mvalidate_js_path\u001b[0m\u001b[1;33m(\u001b[0m\u001b[0mself\u001b[0m\u001b[1;33m.\u001b[0m\u001b[0mregistered_paths\u001b[0m\u001b[1;33m,\u001b[0m \u001b[0mpackage_name\u001b[0m\u001b[1;33m,\u001b[0m \u001b[0mpath_in_pkg\u001b[0m\u001b[1;33m)\u001b[0m\u001b[1;33m\u001b[0m\u001b[1;33m\u001b[0m\u001b[0m\n",
      "\u001b[0m        \u001b[1;36mglobal\u001b[0m \u001b[0;36m_validate.validate_js_path\u001b[0m \u001b[1;34m= <function validate_js_path at 0x0000023F3F7059D8>\u001b[0m\u001b[1;34m\n",
      "        \u001b[0m\u001b[0;36mself.registered_paths\u001b[0m \u001b[1;34m= defaultdict(<class 'set'>, {'dash': {'dcc/async-mathjax.js.map', 'deps/polyfill@7.12.1.min.js', 'dcc/async-highlight.js.map', 'dash_table/async-table.js', 'dcc/dash_core_components.js.map', 'dcc/async-datepicker.js.map', 'dash_table/async-table.js.map', 'dash_table/bundle.js.map', 'dash_table/async-export.js.map', 'dcc/dash_core_components.js', 'html/dash_html_components.min.js', 'dcc/async-graph.js', 'dcc/async-slider.js', 'dash-renderer/build/dash_renderer.dev.js', 'dcc/async-slider.js.map', 'dcc/async-mathjax.js', 'deps/prop-types@15.8.1.js', 'dcc/async-markdown.js.map', 'deps/react-dom@16.14.0.js', 'dcc/async-upload.js', 'dcc/async-markdown.js', 'dcc/async-dropdown.js.map', 'dash_table/bundle.js', 'dash_table/async-highlight.js.map', 'dcc/async-highlight.js', 'dash_table/async-highlight.js', 'dcc/dash_core_components-shared.js', 'dcc/async-graph.js.map', 'deps/react@16.14.0.js', 'dash-renderer/build/dash_renderer.dev.js.map', 'dash_table/async-export.js', 'html/dash_html_components.min.js.map', 'dcc/async-dropdown.js', 'dcc/dash_core_components-shared.js.map', 'dcc/async-upload.js.map', 'dcc/async-datepicker.js'}, 'dash_cytoscape': {'dash_cytoscape.dev.js'}, 'plotly': {'package_data/plotly.min.js'}})\u001b[0m\u001b[1;34m\n",
      "        \u001b[0m\u001b[0;36mpackage_name\u001b[0m \u001b[1;34m= 'dash_bootstrap_components'\u001b[0m\u001b[1;34m\n",
      "        \u001b[0m\u001b[0;36mpath_in_pkg\u001b[0m \u001b[1;34m= '_components/dash_bootstrap_components.min.js'\u001b[0m\n",
      "\u001b[0;32m    948\u001b[0m \u001b[1;33m\u001b[0m\u001b[0m\n",
      "\u001b[0;32m    949\u001b[0m         \u001b[0mextension\u001b[0m \u001b[1;33m=\u001b[0m \u001b[1;34m\".\"\u001b[0m \u001b[1;33m+\u001b[0m \u001b[0mpath_in_pkg\u001b[0m\u001b[1;33m.\u001b[0m\u001b[0msplit\u001b[0m\u001b[1;33m(\u001b[0m\u001b[1;34m\".\"\u001b[0m\u001b[1;33m)\u001b[0m\u001b[1;33m[\u001b[0m\u001b[1;33m-\u001b[0m\u001b[1;36m1\u001b[0m\u001b[1;33m]\u001b[0m\u001b[1;33m\u001b[0m\u001b[1;33m\u001b[0m\u001b[0m\n",
      "\n",
      "\u001b[1;32m~\\AppData\\Local\\Packages\\PythonSoftwareFoundation.Python.3.7_qbz5n2kfra8p0\\LocalCache\\local-packages\\Python37\\site-packages\\dash\\_validate.py\u001b[0m in \u001b[0;36mvalidate_js_path\u001b[1;34m(\n",
      "    registered_paths=defaultdict(<class 'set'>, {'dash': {'dcc/async-....js'}, 'plotly': {'package_data/plotly.min.js'}}),\n",
      "    package_name='dash_bootstrap_components',\n",
      "    path_in_package_dist='_components/dash_bootstrap_components.min.js'\n",
      ")\u001b[0m\n",
      "\u001b[0;32m    368\u001b[0m             \u001b[0mRegistered\u001b[0m \u001b[0mlibraries\u001b[0m \u001b[0mare\u001b[0m\u001b[1;33m:\u001b[0m\u001b[1;33m\u001b[0m\u001b[1;33m\u001b[0m\u001b[0m\n",
      "\u001b[0;32m    369\u001b[0m             \u001b[1;33m{\u001b[0m\u001b[0mlist\u001b[0m\u001b[1;33m(\u001b[0m\u001b[0mregistered_paths\u001b[0m\u001b[1;33m.\u001b[0m\u001b[0mkeys\u001b[0m\u001b[1;33m(\u001b[0m\u001b[1;33m)\u001b[0m\u001b[1;33m)\u001b[0m\u001b[1;33m}\u001b[0m\u001b[1;33m\u001b[0m\u001b[1;33m\u001b[0m\u001b[0m\n",
      "\u001b[1;32m--> 370\u001b[1;33m             \"\"\"\n",
      "\u001b[0m\u001b[0;32m    371\u001b[0m         )\n",
      "\u001b[0;32m    372\u001b[0m \u001b[1;33m\u001b[0m\u001b[0m\n",
      "\n",
      "\u001b[1;31mDependencyException\u001b[0m: Error loading dependency. \"dash_bootstrap_components\" is not a registered library.\n",
      "Registered libraries are:\n",
      "['dash', 'dash_cytoscape', 'plotly']\n",
      "\n"
     ]
    }
   ],
   "source": [
    "# Initial data generation\n",
    "elements, df = generate_graph_data()\n",
    "\n",
    "# Create the Dash application\n",
    "app = dash.Dash(__name__)\n",
    "\n",
    "app.layout = html.Div([\n",
    "    html.Button('Refresh', id='refresh-btn'),\n",
    "    dash_table.DataTable(\n",
    "        id='table',\n",
    "        columns=[{\"name\": i, \"id\": i} for i in df.columns],\n",
    "        data=df.to_dict('records'),\n",
    "        style_table={'height': '300px', 'overflowY': 'auto'}\n",
    "    ),\n",
    "    cyto.Cytoscape(\n",
    "        id='cytoscape',\n",
    "        elements=elements,\n",
    "        layout={'name': 'circle'},\n",
    "        style={'width': '100%', 'height': '400px'},\n",
    "        stylesheet=[\n",
    "            {\n",
    "                'selector': 'node',\n",
    "                'style': {\n",
    "                    'background-color': 'blue',\n",
    "                    'label': 'data(label)',\n",
    "                    'width': 20,\n",
    "                    'height': 20\n",
    "                }\n",
    "            },\n",
    "            {\n",
    "                'selector': 'node.most_visited',\n",
    "                'style': {\n",
    "                    'background-color': 'green',\n",
    "                    'label': 'data(label)',\n",
    "                    'width': 50,\n",
    "                    'height': 50\n",
    "                }\n",
    "            },\n",
    "            {\n",
    "                'selector': 'edge',\n",
    "                'style': {\n",
    "                    'label': 'data(label)',\n",
    "                    'curve-style': 'bezier',\n",
    "                    'target-arrow-shape': 'triangle',\n",
    "                    'target-arrow-color': 'black'\n",
    "                }\n",
    "            }\n",
    "        ]\n",
    "    )\n",
    "])\n",
    "\n",
    "@app.callback(\n",
    "    [dd.Output('cytoscape', 'elements'),\n",
    "     dd.Output('table', 'data')],\n",
    "    [dd.Input('refresh-btn', 'n_clicks')]\n",
    ")\n",
    "def update_graph_data(n_clicks):\n",
    "    # Generate new data when the button is clicked\n",
    "    elements, df = generate_graph_data()\n",
    "    \n",
    "    return elements, df.to_dict('records')\n",
    "\n",
    "if __name__ == '__main__':\n",
    "    app.run_server(debug=True)"
   ]
  },
  {
   "cell_type": "code",
   "execution_count": null,
   "metadata": {},
   "outputs": [],
   "source": []
  }
 ],
 "metadata": {
  "kernelspec": {
   "display_name": "Python 3",
   "language": "python",
   "name": "python3"
  },
  "language_info": {
   "codemirror_mode": {
    "name": "ipython",
    "version": 3
   },
   "file_extension": ".py",
   "mimetype": "text/x-python",
   "name": "python",
   "nbconvert_exporter": "python",
   "pygments_lexer": "ipython3",
   "version": "3.7.9"
  },
  "orig_nbformat": 4
 },
 "nbformat": 4,
 "nbformat_minor": 2
}
