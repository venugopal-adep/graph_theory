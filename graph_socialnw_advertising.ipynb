{
 "cells": [
  {
   "cell_type": "markdown",
   "metadata": {},
   "source": [
    "## Mapping Social network advertising dynamics using Graph Theory\n",
    "I've just created this amazing tool that maps out social network advertising dynamics in an interactive way! Using Dash and NetworkX, I built a network where each node represents a user, color-coded by their influence. Users like Alice and Bob are connected, showing their social ties. This visualization helps identify key influencers and their interests, like music or movies, which is super helpful for targeted advertising. The next steps? I'm thinking of integrating real-time social media data to capture evolving interests and influence. This could revolutionize how we approach social media marketing! 🌐💡🚀"
   ]
  },
  {
   "cell_type": "markdown",
   "metadata": {},
   "source": [
    "### Importing libraries"
   ]
  },
  {
   "cell_type": "code",
   "execution_count": null,
   "metadata": {},
   "outputs": [],
   "source": [
    "import dash\n",
    "from dash import html\n",
    "import dash_cytoscape as cyto\n",
    "from dash.dependencies import Input, Output\n",
    "import networkx as nx"
   ]
  },
  {
   "cell_type": "markdown",
   "metadata": {},
   "source": [
    "### Building a Social Network Graph with Dash and NetworkX\n",
    "This code snippet creates an interactive Dash application to visualize a social network graph. It constructs a network using NetworkX, where nodes represent users with attributes like influence and interests. Edges between nodes signify social connections. This network setup aids in analyzing social dynamics, influence patterns, and shared interests among users. The visualization can be particularly useful for understanding social structures or developing targeted marketing strategies."
   ]
  },
  {
   "cell_type": "code",
   "execution_count": null,
   "metadata": {},
   "outputs": [],
   "source": [
    "# Create the dash application\n",
    "app = dash.Dash(__name__)\n",
    "\n",
    "# Create the network\n",
    "G = nx.Graph()\n",
    "\n",
    "# Add nodes (representing users)\n",
    "users = [\n",
    "    {\"name\": \"Alice\", \"influence\": 0.9, \"interests\": [\"music\", \"movies\"]},\n",
    "    {\"name\": \"Bob\", \"influence\": 0.7, \"interests\": [\"sports\", \"travel\"]},\n",
    "    {\"name\": \"Charlie\", \"influence\": 0.8, \"interests\": [\"reading\", \"music\"]},\n",
    "    {\"name\": \"David\", \"influence\": 0.6, \"interests\": [\"travel\", \"photography\"]},\n",
    "    {\"name\": \"Eve\", \"influence\": 0.5, \"interests\": [\"movies\", \"reading\"]},\n",
    "    # Add more users as required\n",
    "]\n",
    "\n",
    "for user in users:\n",
    "    G.add_node(user[\"name\"], influence=user[\"influence\"], interests=user[\"interests\"])\n",
    "\n",
    "# Add edges (representing connections between users)\n",
    "connections = [\n",
    "    (\"Alice\", \"Bob\"),\n",
    "    (\"Alice\", \"Charlie\"),\n",
    "    (\"Alice\", \"David\"),\n",
    "    (\"Alice\", \"Eve\"),\n",
    "    (\"Bob\", \"Charlie\"),\n",
    "    (\"David\", \"Charlie\"),\n",
    "    (\"David\", \"Charlie\"),\n",
    "    (\"David\", \"Bob\"),\n",
    "    (\"Bob\", \"Eve\"),\n",
    "    (\"Alice\", \"Eve\"),\n",
    "    (\"David\", \"Eve\"),\n",
    "    # Add more connections as required\n",
    "]\n",
    "\n",
    "G.add_edges_from(connections)"
   ]
  },
  {
   "cell_type": "markdown",
   "metadata": {},
   "source": [
    "### Visualizing Social Influence: Color-Coded Network Analysis with Dash and Cytoscape\n",
    "This code visualizes a social network in Dash, highlighting user influence and interests. It ranks users by influence, assigns them distinct colors, and labels them with their interests. These details are then mapped onto a network graph using Cytoscape, where nodes represent users and edges their connections. The resulting interactive visualization helps in understanding social dynamics and influence patterns in the network, providing a valuable tool for social media analysis and targeted marketing strategies."
   ]
  },
  {
   "cell_type": "code",
   "execution_count": 2,
   "metadata": {},
   "outputs": [
    {
     "data": {
      "text/html": [
       "\n",
       "        <iframe\n",
       "            width=\"100%\"\n",
       "            height=\"650\"\n",
       "            src=\"http://127.0.0.1:8050/\"\n",
       "            frameborder=\"0\"\n",
       "            allowfullscreen\n",
       "            \n",
       "        ></iframe>\n",
       "        "
      ],
      "text/plain": [
       "<IPython.lib.display.IFrame at 0x11542b250>"
      ]
     },
     "metadata": {},
     "output_type": "display_data"
    }
   ],
   "source": [
    "# Calculate influence rank and map it to colors\n",
    "influence_rank = sorted(users, key=lambda x: x[\"influence\"], reverse=True)\n",
    "color_map = [\"red\", \"green\", \"blue\", \"yellow\", \"purple\"]  # Add more colors if there are more users\n",
    "\n",
    "for i, user in enumerate(influence_rank):\n",
    "    G.nodes[user[\"name\"]][\"color\"] = color_map[i]\n",
    "    G.nodes[user[\"name\"]][\"label\"] = user[\"name\"] + \"Interests: \" + \", \".join(user[\"interests\"])\n",
    "\n",
    "elements = [\n",
    "    {\n",
    "        \"data\": {\n",
    "            \"id\": node,\n",
    "            \"label\": data[\"label\"],\n",
    "            \"color\": data[\"color\"],\n",
    "        }\n",
    "    }\n",
    "    for node, data in G.nodes(data=True)\n",
    "]\n",
    "\n",
    "elements.extend(\n",
    "    [{\"data\": {\"source\": edge[0], \"target\": edge[1]}} for edge in G.edges()]\n",
    ")\n",
    "\n",
    "# Create Dash Cytoscape component\n",
    "cytoscape_component = cyto.Cytoscape(\n",
    "    id=\"cytoscape\",\n",
    "    elements=elements,\n",
    "    style={\"width\": \"100%\", \"height\": \"800px\"},\n",
    "    stylesheet=[\n",
    "        {\n",
    "            \"selector\": \"node\",\n",
    "            \"style\": {\n",
    "                \"background-color\": \"data(color)\",\n",
    "                \"label\": \"data(label)\",\n",
    "            },\n",
    "        },\n",
    "        {\n",
    "            \"selector\": \"edge\",\n",
    "            \"style\": {\n",
    "                \"line-color\": \"grey\",\n",
    "            },\n",
    "        },\n",
    "    ],\n",
    ")\n",
    "\n",
    "# Add the Cytoscape component to the Dash app layout\n",
    "app.layout = html.Div([cytoscape_component])\n",
    "\n",
    "# Run the Dash app\n",
    "if __name__ == \"__main__\":\n",
    "    app.run_server(debug=True)\n"
   ]
  },
  {
   "cell_type": "code",
   "execution_count": null,
   "metadata": {},
   "outputs": [],
   "source": []
  }
 ],
 "metadata": {
  "kernelspec": {
   "display_name": "Python 3",
   "language": "python",
   "name": "python3"
  },
  "language_info": {
   "codemirror_mode": {
    "name": "ipython",
    "version": 3
   },
   "file_extension": ".py",
   "mimetype": "text/x-python",
   "name": "python",
   "nbconvert_exporter": "python",
   "pygments_lexer": "ipython3",
   "version": "3.11.4"
  },
  "orig_nbformat": 4
 },
 "nbformat": 4,
 "nbformat_minor": 2
}
