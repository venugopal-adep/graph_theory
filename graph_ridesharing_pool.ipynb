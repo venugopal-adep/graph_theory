{
 "cells": [
  {
   "cell_type": "markdown",
   "metadata": {},
   "source": [
    "## Streamlining carpooling in ride-sharing platforms using Graph Theory\n",
    "In my recent work, I've harnessed the power of graph theory to streamline carpooling in ride-sharing platforms. Using Python, I created a directed graph to simulate locations and their interconnections, with weights representing distances. The key here is leveraging Dijkstra's algorithm to find the shortest paths for carpooling routes. This method not only makes ride-sharing more efficient but also reduces travel time and costs. My next step is to incorporate real-time traffic data, further optimizing these routes and enhancing the ride-sharing experience for both drivers and riders."
   ]
  },
  {
   "cell_type": "markdown",
   "metadata": {},
   "source": [
    "### Import libraries"
   ]
  },
  {
   "cell_type": "code",
   "execution_count": 1,
   "metadata": {},
   "outputs": [
    {
     "name": "stderr",
     "output_type": "stream",
     "text": [
      "C:\\Users\\DELL\\AppData\\Local\\Packages\\PythonSoftwareFoundation.Python.3.7_qbz5n2kfra8p0\\LocalCache\\local-packages\\Python37\\site-packages\\ipykernel_launcher.py:3: UserWarning: \n",
      "The dash_html_components package is deprecated. Please replace\n",
      "`import dash_html_components as html` with `from dash import html`\n",
      "  This is separate from the ipykernel package so we can avoid doing imports until\n"
     ]
    }
   ],
   "source": [
    "import dash\n",
    "import dash_cytoscape as cyto\n",
    "import dash_html_components as html\n",
    "import dash_bootstrap_components as dbc\n",
    "import networkx as nx\n",
    "import random"
   ]
  },
  {
   "cell_type": "markdown",
   "metadata": {},
   "source": [
    "### Constructing a Directed Graph for Location-Based Analysis\n",
    "This code snippet creates a directed graph representing a network of 20 locations, with nodes for each location and edges indicating the distance between them. Each edge has a randomly assigned weight, representing the distance, making the graph useful for location-based network analysis."
   ]
  },
  {
   "cell_type": "code",
   "execution_count": 2,
   "metadata": {},
   "outputs": [],
   "source": [
    "# Create nodes (representing locations)\n",
    "locations = [f\"L{i}\" for i in range(20)]\n",
    "\n",
    "# Create a directed graph\n",
    "G = nx.DiGraph()\n",
    "\n",
    "# Nodes are added to the Graph\n",
    "G.add_nodes_from(locations)\n",
    "\n",
    "# Add edges with weights (representing distances between locations)\n",
    "for location1 in locations:\n",
    "    for location2 in locations:\n",
    "        if location1 != location2:\n",
    "            distance = random.randint(1, 100)\n",
    "            G.add_edge(location1, location2, weight=distance)\n",
    "            G.add_edge(location2, location1, weight=distance)  # symmetric weight"
   ]
  },
  {
   "cell_type": "markdown",
   "metadata": {},
   "source": [
    "### Optimizing Carpool Routes with Dijkstra's Algorithm\n",
    "The code selects a base location and three unique destinations, then uses Dijkstra's algorithm to find the shortest paths sequentially from the base to each destination. This approach helps in planning efficient carpool routes by connecting the chosen locations through the shortest possible paths."
   ]
  },
  {
   "cell_type": "code",
   "execution_count": 3,
   "metadata": {},
   "outputs": [
    {
     "name": "stdout",
     "output_type": "stream",
     "text": [
      "Path from base to destination 1: ['L6', 'L7', 'L18']\n",
      "Path from destination 1 to destination 2: ['L18', 'L7', 'L16', 'L0', 'L8']\n",
      "Path from destination 2 to destination 3: ['L8', 'L19']\n"
     ]
    }
   ],
   "source": [
    "# Choose one base location and three destinations\n",
    "base_location = random.choice(locations)\n",
    "destinations = random.sample([loc for loc in locations if loc != base_location], 3)  # Ensure unique destinations\n",
    "\n",
    "# Find shortest path from base to each destination and combine them\n",
    "path_to_dest1 = nx.dijkstra_path(G, source=base_location, target=destinations[0])\n",
    "path_to_dest2 = nx.dijkstra_path(G, source=destinations[0], target=destinations[1])\n",
    "path_to_dest3 = nx.dijkstra_path(G, source=destinations[1], target=destinations[2])\n",
    "\n",
    "# Print for debugging purposes\n",
    "print(\"Path from base to destination 1:\", path_to_dest1)\n",
    "print(\"Path from destination 1 to destination 2:\", path_to_dest2)\n",
    "print(\"Path from destination 2 to destination 3:\", path_to_dest3)"
   ]
  },
  {
   "cell_type": "markdown",
   "metadata": {},
   "source": [
    "### Optimizing Carpool Routes Using Network Graph Analysis\n",
    "The code combines multiple shortest paths to create a single carpool route and converts this route along with other graph data into a format compatible with Dash Cytoscape for visualization. It defines a custom stylesheet for the visual elements, highlighting different nodes and paths, and calculates distances along the route. This approach efficiently illustrates the carpooling paths in a network, optimizing routes based on distances between locations"
   ]
  },
  {
   "cell_type": "code",
   "execution_count": 4,
   "metadata": {},
   "outputs": [
    {
     "name": "stdout",
     "output_type": "stream",
     "text": [
      "L6 --- (16) --> L18 --- (26) --> L8 --- (10) --> L19\n"
     ]
    }
   ],
   "source": [
    "# Combine all paths\n",
    "full_path = path_to_dest1 + path_to_dest2[1:] + path_to_dest3[1:]\n",
    "\n",
    "# Convert NetworkX Graph to cytoscape data format\n",
    "cytoscape_format_data = nx.readwrite.json_graph.cytoscape_data(G)\n",
    "\n",
    "# Convert data to Dash Cytoscape elements\n",
    "elements = cytoscape_format_data['elements']['nodes'] + cytoscape_format_data['elements']['edges']\n",
    "\n",
    "# Define stylesheet\n",
    "stylesheet=[\n",
    "    {\n",
    "        'selector': 'node',\n",
    "        'style': {\n",
    "            'content': 'data(id)',\n",
    "            'color': 'white',\n",
    "            'text-valign': 'center',\n",
    "            'text-halign': 'center',\n",
    "            'background-color': 'blue',\n",
    "        }\n",
    "    },\n",
    "    {\n",
    "        'selector': 'edge',\n",
    "        'style': {\n",
    "            'curve-style': 'bezier',\n",
    "            'label': 'data(weight)',\n",
    "            'target-arrow-shape': 'triangle',\n",
    "            'line-color': 'black',\n",
    "            'line-style': 'dotted',\n",
    "            'width': 1\n",
    "        }\n",
    "    },\n",
    "    # Change the color of the start and end nodes\n",
    "    {\n",
    "        'selector': f'node[id = \"{base_location}\"]',\n",
    "        'style': {\n",
    "            'background-color': 'red',\n",
    "        }\n",
    "    },\n",
    "    {\n",
    "        'selector': f'node[id = \"{destinations[0]}\"]',\n",
    "        'style': {\n",
    "            'background-color': 'green',\n",
    "        }\n",
    "    },\n",
    "    {\n",
    "        'selector': f'node[id = \"{destinations[1]}\"]',\n",
    "        'style': {\n",
    "            'background-color': 'magenta',\n",
    "        }\n",
    "    },\n",
    "    {\n",
    "        'selector': f'node[id = \"{destinations[2]}\"]',\n",
    "        'style': {\n",
    "            'background-color': 'orange',\n",
    "        }\n",
    "    },\n",
    "]\n",
    "\n",
    "# Highlight the full path\n",
    "for i in range(len(full_path) - 1):\n",
    "    stylesheet.append({\n",
    "        'selector': f'edge[source = \"{full_path[i]}\"][target = \"{full_path[i + 1]}\"]',\n",
    "        'style': {\n",
    "            'line-color': 'red',\n",
    "            'line-style': 'solid',\n",
    "            'width': 2\n",
    "        }\n",
    "    })\n",
    "\n",
    "# Calculate distances\n",
    "dist_to_dest1 = nx.dijkstra_path_length(G, source=base_location, target=destinations[0])\n",
    "dist_to_dest2 = nx.dijkstra_path_length(G, source=destinations[0], target=destinations[1])\n",
    "dist_to_dest3 = nx.dijkstra_path_length(G, source=destinations[1], target=destinations[2])\n",
    "\n",
    "# Construct the path string\n",
    "path_string = (f\"{base_location} --- ({dist_to_dest1}) --> {destinations[0]} \"\n",
    "               f\"--- ({dist_to_dest2}) --> {destinations[1]} \"\n",
    "               f\"--- ({dist_to_dest3}) --> {destinations[2]}\")\n",
    "\n",
    "print(path_string)"
   ]
  },
  {
   "cell_type": "markdown",
   "metadata": {},
   "source": [
    "### Building an Interactive Dash App for Visualizing Optimal Routes\n",
    "This code snippet sets up a Dash web application to visualize the shortest path in a network. It uses Bootstrap for styling and integrates Cytoscape for graph visualization, displaying the calculated shortest path and the network's structure interactively."
   ]
  },
  {
   "cell_type": "code",
   "execution_count": 5,
   "metadata": {},
   "outputs": [
    {
     "data": {
      "text/html": [
       "\n",
       "        <iframe\n",
       "            width=\"100%\"\n",
       "            height=\"650\"\n",
       "            src=\"http://127.0.0.1:8050/\"\n",
       "            frameborder=\"0\"\n",
       "            allowfullscreen\n",
       "            \n",
       "        ></iframe>\n",
       "        "
      ],
      "text/plain": [
       "<IPython.lib.display.IFrame at 0x1d727d3b988>"
      ]
     },
     "metadata": {},
     "output_type": "display_data"
    }
   ],
   "source": [
    "# Dash App\n",
    "app = dash.Dash(__name__, external_stylesheets=[dbc.themes.BOOTSTRAP])\n",
    "app.layout = dbc.Container([\n",
    "    dbc.Row(\n",
    "        dbc.Col(html.H3(\"Shortest Path: \" + path_string), width=12)\n",
    "    ),\n",
    "    dbc.Row(\n",
    "        dbc.Col(cyto.Cytoscape(\n",
    "            id='cytoscape-elements',\n",
    "            layout={'name': 'random'},\n",
    "            style={'width': '100%', 'height': '900px'},\n",
    "            elements=elements,\n",
    "            stylesheet=stylesheet\n",
    "        ), width=12)\n",
    "    ),\n",
    "], fluid=True)\n",
    "\n",
    "if __name__ == '__main__':\n",
    "    app.run_server(debug=True)\n"
   ]
  },
  {
   "cell_type": "code",
   "execution_count": null,
   "metadata": {},
   "outputs": [],
   "source": []
  }
 ],
 "metadata": {
  "kernelspec": {
   "display_name": "Python 3",
   "language": "python",
   "name": "python3"
  },
  "language_info": {
   "codemirror_mode": {
    "name": "ipython",
    "version": 3
   },
   "file_extension": ".py",
   "mimetype": "text/x-python",
   "name": "python",
   "nbconvert_exporter": "python",
   "pygments_lexer": "ipython3",
   "version": "3.7.9"
  },
  "orig_nbformat": 4
 },
 "nbformat": 4,
 "nbformat_minor": 2
}
