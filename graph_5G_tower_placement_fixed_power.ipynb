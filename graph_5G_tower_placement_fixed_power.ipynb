{
 "cells": [
  {
   "cell_type": "markdown",
   "metadata": {},
   "source": [
    "## Optimize the placement of 5G towers using Graph Theory"
   ]
  },
  {
   "cell_type": "markdown",
   "metadata": {},
   "source": [
    "In this project, I've developed an application to optimize the placement of 5G towers in a simulated environment. The app, built with Dash, displays a grid representing different locations, each with a random population. The main goal is to place towers efficiently to cover as many people as possible.\n",
    "\n",
    "**Key points:**\n",
    "- The grid size is set to 10x10 with 30 populated locations, and each tower covers a radius of 2 units.\n",
    "- Locations are sorted by population to prioritize coverage.\n",
    "- Users can interact with the app to optimize tower placement or refresh the locations.\n",
    "- The app visually represents the optimization process, showing where towers are placed in relation to the population centers.\n",
    "- This tool can be incredibly useful for telecommunications planning, providing a visual and interactive way to strategize the deployment of network infrastructure."
   ]
  },
  {
   "cell_type": "markdown",
   "metadata": {},
   "source": [
    "### Import the libraries"
   ]
  },
  {
   "cell_type": "code",
   "execution_count": 1,
   "metadata": {},
   "outputs": [
    {
     "name": "stderr",
     "output_type": "stream",
     "text": [
      "C:\\Users\\DELL\\AppData\\Local\\Packages\\PythonSoftwareFoundation.Python.3.7_qbz5n2kfra8p0\\LocalCache\\local-packages\\Python37\\site-packages\\ipykernel_launcher.py:3: UserWarning: \n",
      "The dash_html_components package is deprecated. Please replace\n",
      "`import dash_html_components as html` with `from dash import html`\n",
      "  This is separate from the ipykernel package so we can avoid doing imports until\n",
      "C:\\Users\\DELL\\AppData\\Local\\Packages\\PythonSoftwareFoundation.Python.3.7_qbz5n2kfra8p0\\LocalCache\\local-packages\\Python37\\site-packages\\ipykernel_launcher.py:5: UserWarning: \n",
      "The dash_core_components package is deprecated. Please replace\n",
      "`import dash_core_components as dcc` with `from dash import dcc`\n",
      "  \"\"\"\n"
     ]
    }
   ],
   "source": [
    "import dash\n",
    "import dash_cytoscape as cyto\n",
    "import dash_html_components as html\n",
    "import dash_bootstrap_components as dbc\n",
    "import dash_core_components as dcc\n",
    "from dash.dependencies import Input, Output\n",
    "import networkx as nx\n",
    "import random"
   ]
  },
  {
   "cell_type": "markdown",
   "metadata": {},
   "source": [
    "### Defining the Grid size, number of locations and Tower radius\n",
    "The code defines constants for a simulation to optimize 5G tower placement: a 10x10 grid with 30 populated locations and each tower having a coverage radius of 2 units"
   ]
  },
  {
   "cell_type": "code",
   "execution_count": 2,
   "metadata": {},
   "outputs": [],
   "source": [
    "# Constants\n",
    "GRID_SIZE = 10\n",
    "NUM_LOCATIONS = 30  # Number of populated locations\n",
    "TOWER_RADIUS = 2  # Maximum coverage radius of a tower"
   ]
  },
  {
   "cell_type": "markdown",
   "metadata": {},
   "source": [
    "### Generating and Sorting Populated Locations for Optimization Analysis\n",
    "The code creates a list of randomly populated locations with varying populations, each assigned a unique identifier and coordinates. It then sorts these locations in descending order based on their population, prioritizing more densely populated areas."
   ]
  },
  {
   "cell_type": "code",
   "execution_count": 3,
   "metadata": {},
   "outputs": [],
   "source": [
    "# Create random populated locations with random population\n",
    "locations = [{\"id\": f\"L{x}_{y}\", \"position\": {\"x\": x * 100, \"y\": y * 100}, \"population\": random.randint(1, 100)} \n",
    "             for x, y in random.sample([(i, j) for i in range(GRID_SIZE) for j in range(GRID_SIZE)], NUM_LOCATIONS)]\n",
    "\n",
    "locations.sort(key=lambda x: x[\"population\"], reverse=True)  # Sort locations by population"
   ]
  },
  {
   "cell_type": "markdown",
   "metadata": {},
   "source": [
    "### Interactive 5G Tower Optimization Dashboard with Dash and Cytoscape\n",
    "This code sets up an interactive web application using Dash to optimize the placement of 5G towers. It defines a visual style for network nodes and towers, and arranges them in a grid layout. The app allows users to either refresh the grid with new random locations or optimize tower placement to cover the most populated areas. The optimization logic is triggered by buttons in the interface, and the results, including the number of placed towers and their locations, are dynamically displayed in the app."
   ]
  },
  {
   "cell_type": "code",
   "execution_count": 4,
   "metadata": {},
   "outputs": [
    {
     "data": {
      "text/html": [
       "\n",
       "        <iframe\n",
       "            width=\"100%\"\n",
       "            height=\"650\"\n",
       "            src=\"http://127.0.0.1:8050/\"\n",
       "            frameborder=\"0\"\n",
       "            allowfullscreen\n",
       "            \n",
       "        ></iframe>\n",
       "        "
      ],
      "text/plain": [
       "<IPython.lib.display.IFrame at 0x2848d484648>"
      ]
     },
     "metadata": {},
     "output_type": "display_data"
    }
   ],
   "source": [
    "# Define stylesheet\n",
    "stylesheet = [\n",
    "    {\n",
    "        'selector': 'node',\n",
    "        'style': {\n",
    "            'content': 'data(id)',\n",
    "            'color': 'black',\n",
    "            'background-color': 'blue',\n",
    "            'width': 'mapData(population, 0, 100, 10, 50)',\n",
    "            'height': 'mapData(population, 0, 100, 10, 50)'\n",
    "        }\n",
    "    },\n",
    "    {\n",
    "        'selector': '.tower',\n",
    "        'style': {\n",
    "            'background-color': 'red',\n",
    "            'width': '50px',\n",
    "            'height': '50px'\n",
    "        }\n",
    "    }\n",
    "]\n",
    "app = dash.Dash(__name__, external_stylesheets=[dbc.themes.BOOTSTRAP])\n",
    "\n",
    "app.layout = dbc.Container([\n",
    "    dbc.Row(\n",
    "        dbc.Col(html.H2(\"5G Tower Optimization\"), width=12)\n",
    "    ),\n",
    "    dbc.Row(\n",
    "        dbc.Col(cyto.Cytoscape(\n",
    "            id='cytoscape-elements',\n",
    "            layout={'name': 'preset'},\n",
    "            style={'width': '100%', 'height': '800px'},\n",
    "            elements=[{\"data\": {\"id\": loc[\"id\"], \"population\": loc[\"population\"]}, \n",
    "                       \"position\": loc[\"position\"]} for loc in locations],\n",
    "            stylesheet=stylesheet\n",
    "        ), width=12)\n",
    "    ),\n",
    "    dbc.Row([\n",
    "        dbc.Col(dbc.Button(\"Optimize Towers\", id=\"optimize-button\", color=\"primary\"), width=6),\n",
    "        dbc.Col(dbc.Button(\"Refresh\", id=\"refresh-button\", color=\"secondary\"), width=6)\n",
    "    ]),\n",
    "    dbc.Row(\n",
    "        dbc.Col(html.Div(id='output-data'), width=12)\n",
    "    )\n",
    "], fluid=True)\n",
    "\n",
    "\n",
    "@app.callback(\n",
    "    [Output('cytoscape-elements', 'elements'),\n",
    "     Output('output-data', 'children')],\n",
    "    [Input('optimize-button', 'n_clicks'),\n",
    "     Input('refresh-button', 'n_clicks')],\n",
    "    prevent_initial_call=True\n",
    ")\n",
    "def update_graph(optimize_clicks, refresh_clicks):\n",
    "    ctx = dash.callback_context\n",
    "    button_id = ctx.triggered[0]['prop_id'].split('.')[0]\n",
    "    \n",
    "    # If refresh button was clicked\n",
    "    if button_id == 'refresh-button':\n",
    "        global locations\n",
    "        locations = [{\"id\": f\"L{x}_{y}\", \"position\": {\"x\": x * 100, \"y\": y * 100}, \"population\": random.randint(1, 100)} \n",
    "                     for x, y in random.sample([(i, j) for i in range(GRID_SIZE) for j in range(GRID_SIZE)], NUM_LOCATIONS)]\n",
    "        locations.sort(key=lambda x: x[\"population\"], reverse=True)\n",
    "        return [{\"data\": {\"id\": loc[\"id\"], \"population\": loc[\"population\"]}, \"position\": loc[\"position\"]} for loc in locations], dash.no_update\n",
    "    \n",
    "    # If optimize button was clicked\n",
    "    elif button_id == 'optimize-button':\n",
    "        # (You'll need to replace this comment with the logic you have for the optimization)\n",
    "        # For instance:\n",
    "        uncovered_locations = locations.copy()\n",
    "        towers = []\n",
    "        while uncovered_locations:\n",
    "            tower_position = uncovered_locations[0][\"position\"]\n",
    "            towers.append({\n",
    "                \"data\": {\"id\": f\"Tower_{len(towers)}\"},\n",
    "                \"position\": tower_position,\n",
    "                \"classes\": \"tower\"\n",
    "            })\n",
    "            uncovered_locations = [loc for loc in uncovered_locations \n",
    "                                   if abs(loc[\"position\"][\"x\"] - tower_position[\"x\"]) > TOWER_RADIUS * 100 or \n",
    "                                   abs(loc[\"position\"][\"y\"] - tower_position[\"y\"]) > TOWER_RADIUS * 100]\n",
    "\n",
    "        return [{\"data\": {\"id\": loc[\"id\"], \"population\": loc[\"population\"]}, \n",
    "                 \"position\": loc[\"position\"]} for loc in locations] + towers, f\"Placed {len(towers)} towers.\"\n",
    "\n",
    "if __name__ == '__main__':\n",
    "    app.run_server(debug=True)"
   ]
  },
  {
   "cell_type": "code",
   "execution_count": null,
   "metadata": {},
   "outputs": [],
   "source": []
  },
  {
   "cell_type": "code",
   "execution_count": null,
   "metadata": {},
   "outputs": [],
   "source": []
  },
  {
   "cell_type": "code",
   "execution_count": null,
   "metadata": {},
   "outputs": [],
   "source": [
    "\n",
    "\n",
    "\n",
    "\n",
    "\n",
    "\n"
   ]
  },
  {
   "cell_type": "code",
   "execution_count": null,
   "metadata": {},
   "outputs": [],
   "source": []
  },
  {
   "cell_type": "code",
   "execution_count": null,
   "metadata": {},
   "outputs": [],
   "source": []
  }
 ],
 "metadata": {
  "kernelspec": {
   "display_name": "Python 3",
   "language": "python",
   "name": "python3"
  },
  "language_info": {
   "codemirror_mode": {
    "name": "ipython",
    "version": 3
   },
   "file_extension": ".py",
   "mimetype": "text/x-python",
   "name": "python",
   "nbconvert_exporter": "python",
   "pygments_lexer": "ipython3",
   "version": "3.7.9"
  },
  "orig_nbformat": 4
 },
 "nbformat": 4,
 "nbformat_minor": 2
}
