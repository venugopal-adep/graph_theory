{
 "cells": [
  {
   "cell_type": "markdown",
   "metadata": {},
   "source": [
    "## Service Dependency Map using Graph Theory"
   ]
  },
  {
   "cell_type": "markdown",
   "metadata": {},
   "source": [
    "I've been working on this intriguing project to visualize network connections using Python and Dash. By executing the netstat command, I gather data on established connections and then map these onto a network graph using NetworkX. The graph highlights the interconnectedness of services, revealing how different nodes (IP addresses) communicate.\n",
    "\n",
    "The benefits are clear: enhanced network visibility and troubleshooting. It’s easier to spot anomalies or points of failure. Moving forward, I plan to integrate real-time data for dynamic network analysis and introduce machine learning for predictive insights, which could revolutionize network management and security."
   ]
  },
  {
   "cell_type": "markdown",
   "metadata": {},
   "source": [
    "### Import libraries"
   ]
  },
  {
   "cell_type": "code",
   "execution_count": 1,
   "metadata": {},
   "outputs": [],
   "source": [
    "import subprocess\n",
    "import dash\n",
    "from dash import dcc, html\n",
    "import networkx as nx\n",
    "import plotly.graph_objs as go"
   ]
  },
  {
   "cell_type": "markdown",
   "metadata": {},
   "source": [
    "### Extracting and Processing Network Connection Data with Python\n",
    "The code executes the 'netstat' command to retrieve network connection details, then decodes and splits the output to analyze each line separately. This is a foundational step in gathering network status information for further processing or visualization"
   ]
  },
  {
   "cell_type": "code",
   "execution_count": 4,
   "metadata": {},
   "outputs": [],
   "source": [
    "# Execute the netstat command\n",
    "#output = subprocess.check_output(['netstat', '-an']).decode('utf-8').split(\"\\n\")\n",
    "output = subprocess.check_output('netstat -an', shell=True).decode('utf-8').split(\"\\n\")"
   ]
  },
  {
   "cell_type": "markdown",
   "metadata": {},
   "source": [
    "### Building a Network Graph from Connection Data\n",
    "The code constructs a network graph using NetworkX, adding nodes and edges from a list of established connections (denoted by \"ESTABLISHED\"). Each line of the input is parsed to extract source and target IP addresses, which are added as nodes, and a connection between them is represented as an edge. The graph layout is determined using the spring layout algorithm, arranging the nodes based on their connections"
   ]
  },
  {
   "cell_type": "code",
   "execution_count": 9,
   "metadata": {},
   "outputs": [],
   "source": [
    "# Initialize a network graph\n",
    "G = nx.Graph()\n",
    "\n",
    "for line in output:\n",
    "    if \"ESTABLISHED\" not in line:\n",
    "        continue\n",
    "\n",
    "    parts = line.split()\n",
    "    # In Windows, the IP and port are typically in the 2nd and 3rd elements\n",
    "    source = parts[1]\n",
    "    target = parts[2]\n",
    "\n",
    "    G.add_node(source)\n",
    "    G.add_node(target)\n",
    "    G.add_edge(source, target)\n",
    "\n",
    "# Get positions for the nodes in G\n",
    "pos = nx.spring_layout(G)"
   ]
  },
  {
   "cell_type": "markdown",
   "metadata": {},
   "source": [
    "### Constructing Network Edge Visualizations in Dash\n",
    "This code segment creates visual representations of network edges for a Dash application. It iterates through each edge in a network graph, extracts the coordinates for the connected nodes, and stores them for plotting. The go.Scatter function is then used to draw these edges as lines on a Dash visualization."
   ]
  },
  {
   "cell_type": "code",
   "execution_count": 10,
   "metadata": {},
   "outputs": [],
   "source": [
    "# Create edge traces for Dash visualization\n",
    "edge_x = []\n",
    "edge_y = []\n",
    "for edge in G.edges():\n",
    "    x0, y0 = pos[edge[0]]\n",
    "    x1, y1 = pos[edge[1]]\n",
    "    edge_x.extend([x0, x1, None])\n",
    "    edge_y.extend([y0, y1, None])\n",
    "\n",
    "edge_trace = go.Scatter(\n",
    "    x=edge_x, y=edge_y,\n",
    "    line=dict(width=0.5, color='#888'),\n",
    "    hoverinfo='none',\n",
    "    mode='lines')"
   ]
  },
  {
   "cell_type": "markdown",
   "metadata": {},
   "source": [
    "### Developing an Interactive Network Visualization Dashboard\n",
    "This code constructs an interactive dashboard using Dash for visualizing network nodes. It creates a scatter plot (node trace) with node positions and IP addresses for display, and then integrates this into a Dash application layout, showcasing a \"Service Dependency Map\". The visualization emphasizes the connections between various nodes in a network, offering a user-friendly interface for exploring network structures."
   ]
  },
  {
   "cell_type": "code",
   "execution_count": 11,
   "metadata": {},
   "outputs": [
    {
     "data": {
      "text/html": [
       "\n",
       "        <iframe\n",
       "            width=\"100%\"\n",
       "            height=\"650\"\n",
       "            src=\"http://127.0.0.1:8050/\"\n",
       "            frameborder=\"0\"\n",
       "            allowfullscreen\n",
       "            \n",
       "        ></iframe>\n",
       "        "
      ],
      "text/plain": [
       "<IPython.lib.display.IFrame at 0x1fd30642b08>"
      ]
     },
     "metadata": {},
     "output_type": "display_data"
    }
   ],
   "source": [
    "# Create node traces for Dash visualization\n",
    "node_x = []\n",
    "node_y = []\n",
    "text = []\n",
    "for node in pos:\n",
    "    x, y = pos[node]\n",
    "    node_x.append(x)\n",
    "    node_y.append(y)\n",
    "    text.append(node)\n",
    "\n",
    "node_trace = go.Scatter(\n",
    "    x=node_x, y=node_y,\n",
    "    mode='markers',\n",
    "    hoverinfo='text',\n",
    "    marker=dict(\n",
    "        showscale=True,\n",
    "        size=10,\n",
    "        colorbar=dict(\n",
    "            thickness=15,\n",
    "            title='Node Connections',\n",
    "            xanchor='left',\n",
    "        ),\n",
    "        line=dict(width=2)),\n",
    "    text=text  # this line will show IP address\n",
    ")\n",
    "\n",
    "# Build the Dash app\n",
    "app = dash.Dash(__name__)\n",
    "app.layout = html.Div([\n",
    "    dcc.Graph(\n",
    "        id=\"service-dependency-map\",\n",
    "        figure={\n",
    "            'data': [edge_trace, node_trace],\n",
    "            'layout': go.Layout(\n",
    "                title='Service Dependency Map',\n",
    "                showlegend=False,\n",
    "                hovermode='closest',\n",
    "                margin=dict(b=0, l=0, r=0, t=40),\n",
    "                xaxis=dict(showgrid=False, zeroline=False, showticklabels=False),\n",
    "                yaxis=dict(showgrid=False, zeroline=False, showticklabels=False))\n",
    "        }\n",
    "    )\n",
    "])\n",
    "\n",
    "if __name__ == '__main__':\n",
    "    app.run_server(debug=True)"
   ]
  },
  {
   "cell_type": "code",
   "execution_count": null,
   "metadata": {},
   "outputs": [],
   "source": []
  }
 ],
 "metadata": {
  "kernelspec": {
   "display_name": "Python 3",
   "language": "python",
   "name": "python3"
  },
  "language_info": {
   "codemirror_mode": {
    "name": "ipython",
    "version": 3
   },
   "file_extension": ".py",
   "mimetype": "text/x-python",
   "name": "python",
   "nbconvert_exporter": "python",
   "pygments_lexer": "ipython3",
   "version": "3.7.9"
  },
  "orig_nbformat": 4
 },
 "nbformat": 4,
 "nbformat_minor": 2
}
