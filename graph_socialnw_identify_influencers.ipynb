{
 "cells": [
  {
   "cell_type": "markdown",
   "metadata": {},
   "source": [
    "## Navigating the Social Web: Identifying Influencers Through Graph Analysis\n",
    "In this fascinating project, I use network analysis to identify social media influencers. By creating a network graph with nodes representing users and edges symbolizing connections between them, I apply degree centrality metrics in NetworkX to pinpoint the most influential user – in this case, Alice, who has the most connections. The Dash app visualizes this network, highlighting the influencer and their connections distinctly.\n",
    "\n",
    "This method offers valuable insights for marketing and social media strategy, identifying key individuals who can maximize message spread. Moving forward, I plan to integrate more complex network metrics and real-time social media data to dynamically track shifting influence patterns."
   ]
  },
  {
   "cell_type": "markdown",
   "metadata": {},
   "source": [
    "### Importing libraries"
   ]
  },
  {
   "cell_type": "code",
   "execution_count": 1,
   "metadata": {},
   "outputs": [
    {
     "name": "stderr",
     "output_type": "stream",
     "text": [
      "C:\\Users\\DELL\\AppData\\Local\\Packages\\PythonSoftwareFoundation.Python.3.7_qbz5n2kfra8p0\\LocalCache\\local-packages\\Python37\\site-packages\\ipykernel_launcher.py:3: UserWarning: \n",
      "The dash_html_components package is deprecated. Please replace\n",
      "`import dash_html_components as html` with `from dash import html`\n",
      "  This is separate from the ipykernel package so we can avoid doing imports until\n"
     ]
    }
   ],
   "source": [
    "import dash\n",
    "import dash_cytoscape as cyto\n",
    "import dash_html_components as html\n",
    "import networkx as nx\n",
    "from matplotlib import cm, colors"
   ]
  },
  {
   "cell_type": "markdown",
   "metadata": {},
   "source": [
    "### Constructing Social Networks: Visualizing Connections and Influence\n",
    "This code builds a social network using NetworkX and Dash, where users are represented as nodes and their connections as edges. It specifically models a network where 'Alice' emerges as a central figure with the most connections, implying her role as a key influencer within this network."
   ]
  },
  {
   "cell_type": "code",
   "execution_count": 2,
   "metadata": {},
   "outputs": [],
   "source": [
    "# Create the dash application\n",
    "app = dash.Dash(__name__)\n",
    "\n",
    "# Create the network\n",
    "G = nx.Graph()\n",
    "\n",
    "# Add nodes (representing users)\n",
    "users = ['Alice', 'Bob', 'Charlie', 'David', 'Eve', 'Frank', 'George', 'Hannah', 'Ian', 'Jane', \n",
    "         'Kevin', 'Laura', 'Mandy', 'Nigel', 'Oscar', 'Paul', 'Quinn', 'Rachel', 'Steve', 'Tina']\n",
    "G.add_nodes_from(users)\n",
    "\n",
    "# Add edges (representing connections between users)\n",
    "connections = [\n",
    "    # Connections are made in a way that Alice has the most connections (making her the influencer)\n",
    "    ('Alice', 'Bob'),\n",
    "    ('Alice', 'Charlie'),\n",
    "    ('Alice', 'David'),\n",
    "    ('Alice', 'Eve'),\n",
    "    ('Alice', 'Frank'),\n",
    "    ('Alice', 'George'),\n",
    "    ('Alice', 'Hannah'),\n",
    "    ('Alice', 'Ian'),\n",
    "    ('Alice', 'Jane'),\n",
    "    ('Alice', 'Kevin'),\n",
    "    ('Alice', 'Laura'),\n",
    "    ('Alice', 'Mandy'),\n",
    "    ('Alice', 'Nigel'),\n",
    "    ('Alice', 'Oscar'),\n",
    "    ('Alice', 'Paul'),\n",
    "    ('Alice', 'Quinn'),\n",
    "    ('Alice', 'Rachel'),\n",
    "    ('Alice', 'Steve'),\n",
    "    ('Alice', 'Tina'),\n",
    "    ('Bob', 'Charlie'),\n",
    "    ('David', 'Eve'),\n",
    "    ('Frank', 'George'),\n",
    "    ('Hannah', 'Ian'),\n",
    "    ('Jane', 'Kevin'),\n",
    "    ('Laura', 'Mandy'),\n",
    "    ('Nigel', 'Oscar'),\n",
    "    ('Paul', 'Quinn'),\n",
    "    ('Rachel', 'Steve'),\n",
    "    ('Tina', 'Bob')\n",
    "]\n",
    "G.add_edges_from(connections)"
   ]
  },
  {
   "cell_type": "markdown",
   "metadata": {},
   "source": [
    "### Visualizing Influencer Networks with Degree Centrality and Dash\n",
    "This code calculates the degree centrality for each user in a social network graph to identify the most influential person, then normalizes these values for color mapping in a visual representation. It uses Dash and Cytoscape for an interactive display, highlighting the influencer and their connections in different colors, effectively showcasing the influence spread within the network."
   ]
  },
  {
   "cell_type": "code",
   "execution_count": 3,
   "metadata": {},
   "outputs": [
    {
     "data": {
      "text/html": [
       "\n",
       "        <iframe\n",
       "            width=\"100%\"\n",
       "            height=\"650\"\n",
       "            src=\"http://127.0.0.1:8050/\"\n",
       "            frameborder=\"0\"\n",
       "            allowfullscreen\n",
       "            \n",
       "        ></iframe>\n",
       "        "
      ],
      "text/plain": [
       "<IPython.lib.display.IFrame at 0x1e355155fc8>"
      ]
     },
     "metadata": {},
     "output_type": "display_data"
    }
   ],
   "source": [
    "# Calculate degree centrality for each node\n",
    "degree_centrality = nx.degree_centrality(G)\n",
    "\n",
    "# Normalize degree centrality values to [0, 1] for color mapping\n",
    "max_dc = max(degree_centrality.values())\n",
    "influencer = [user for user, dc in degree_centrality.items() if dc == max_dc][0]  # Influencer is the one with highest degree centrality\n",
    "\n",
    "for user in degree_centrality:\n",
    "    degree_centrality[user] /= max_dc\n",
    "\n",
    "# Convert Networkx graph data to Dash Cytoscape data\n",
    "elements = [{'data': {'id': node, 'label': node, 'degree_centrality': degree_centrality[node]}} for node in G.nodes]\n",
    "elements.extend([{'data': {'source': edge[0], 'target': edge[1], 'influencer': (edge[0] == influencer or edge[1] == influencer)}} for edge in G.edges])\n",
    "\n",
    "# Create Dash Cytoscape component\n",
    "cytoscape_component = cyto.Cytoscape(\n",
    "    id='cytoscape',\n",
    "    elements=elements,\n",
    "    layout={'name': 'random'},\n",
    "    style={'width': '100%', 'height': '800px'},\n",
    "    stylesheet=[\n",
    "        {\n",
    "            'selector': 'node',\n",
    "            'style': {\n",
    "                'background-color': 'mapData(degree_centrality, 0, 1, blue, red)',\n",
    "                'label': 'data(id)'\n",
    "            }\n",
    "        },\n",
    "        {\n",
    "            'selector': 'edge[influencer = \"true\"]',\n",
    "            'style': {\n",
    "                'line-color': 'red',\n",
    "                'width': 2\n",
    "            }\n",
    "        },\n",
    "        {\n",
    "            'selector': 'edge[influencer = \"false\"]',\n",
    "            'style': {\n",
    "                'line-color': 'blue',\n",
    "                'width': 0.5,\n",
    "                'line-style': 'dotted'\n",
    "            }\n",
    "        },\n",
    "    ]\n",
    ")\n",
    "\n",
    "# Add the Cytoscape component to the Dash app layout\n",
    "app.layout = html.Div([cytoscape_component])\n",
    "\n",
    "# Run the Dash app\n",
    "if __name__ == '__main__':\n",
    "    app.run_server(debug=True)"
   ]
  },
  {
   "cell_type": "code",
   "execution_count": null,
   "metadata": {},
   "outputs": [],
   "source": []
  }
 ],
 "metadata": {
  "kernelspec": {
   "display_name": "Python 3",
   "language": "python",
   "name": "python3"
  },
  "language_info": {
   "codemirror_mode": {
    "name": "ipython",
    "version": 3
   },
   "file_extension": ".py",
   "mimetype": "text/x-python",
   "name": "python",
   "nbconvert_exporter": "python",
   "pygments_lexer": "ipython3",
   "version": "3.7.9"
  },
  "orig_nbformat": 4
 },
 "nbformat": 4,
 "nbformat_minor": 2
}
